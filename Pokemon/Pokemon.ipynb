{
 "cells": [
  {
   "cell_type": "code",
   "execution_count": 2,
   "metadata": {},
   "outputs": [],
   "source": [
    "import pandas as pd\n",
    "import seaborn as sb\n",
    "import numpy as np\n",
    "import matplotlib.pyplot as plt"
   ]
  },
  {
   "cell_type": "code",
   "execution_count": 3,
   "metadata": {},
   "outputs": [],
   "source": [
    "df = pd.read_csv('pokemon.csv')"
   ]
  },
  {
   "cell_type": "code",
   "execution_count": 8,
   "metadata": {},
   "outputs": [
    {
     "data": {
      "text/html": [
       "<div>\n",
       "<style scoped>\n",
       "    .dataframe tbody tr th:only-of-type {\n",
       "        vertical-align: middle;\n",
       "    }\n",
       "\n",
       "    .dataframe tbody tr th {\n",
       "        vertical-align: top;\n",
       "    }\n",
       "\n",
       "    .dataframe thead th {\n",
       "        text-align: right;\n",
       "    }\n",
       "</style>\n",
       "<table border=\"1\" class=\"dataframe\">\n",
       "  <thead>\n",
       "    <tr style=\"text-align: right;\">\n",
       "      <th></th>\n",
       "      <th>Attacking</th>\n",
       "      <th>Normal</th>\n",
       "      <th>Fire</th>\n",
       "      <th>Water</th>\n",
       "      <th>Electric</th>\n",
       "      <th>Grass</th>\n",
       "      <th>Ice</th>\n",
       "      <th>Fighting</th>\n",
       "      <th>Poison</th>\n",
       "      <th>Ground</th>\n",
       "      <th>Flying</th>\n",
       "      <th>Psychic</th>\n",
       "      <th>Bug</th>\n",
       "      <th>Rock</th>\n",
       "      <th>Ghost</th>\n",
       "      <th>Dragon</th>\n",
       "      <th>Dark</th>\n",
       "      <th>Steel</th>\n",
       "      <th>Fairy</th>\n",
       "    </tr>\n",
       "  </thead>\n",
       "  <tbody>\n",
       "    <tr>\n",
       "      <th>0</th>\n",
       "      <td>Normal</td>\n",
       "      <td>1</td>\n",
       "      <td>1.0</td>\n",
       "      <td>1.0</td>\n",
       "      <td>1.0</td>\n",
       "      <td>1.0</td>\n",
       "      <td>1.0</td>\n",
       "      <td>1.0</td>\n",
       "      <td>1.0</td>\n",
       "      <td>1.0</td>\n",
       "      <td>1.0</td>\n",
       "      <td>1.0</td>\n",
       "      <td>1.0</td>\n",
       "      <td>0.5</td>\n",
       "      <td>0.0</td>\n",
       "      <td>1.0</td>\n",
       "      <td>1.0</td>\n",
       "      <td>0.5</td>\n",
       "      <td>1.0</td>\n",
       "    </tr>\n",
       "    <tr>\n",
       "      <th>1</th>\n",
       "      <td>Fire</td>\n",
       "      <td>1</td>\n",
       "      <td>0.5</td>\n",
       "      <td>0.5</td>\n",
       "      <td>1.0</td>\n",
       "      <td>2.0</td>\n",
       "      <td>2.0</td>\n",
       "      <td>1.0</td>\n",
       "      <td>1.0</td>\n",
       "      <td>1.0</td>\n",
       "      <td>1.0</td>\n",
       "      <td>1.0</td>\n",
       "      <td>2.0</td>\n",
       "      <td>0.5</td>\n",
       "      <td>1.0</td>\n",
       "      <td>0.5</td>\n",
       "      <td>1.0</td>\n",
       "      <td>2.0</td>\n",
       "      <td>1.0</td>\n",
       "    </tr>\n",
       "    <tr>\n",
       "      <th>2</th>\n",
       "      <td>Water</td>\n",
       "      <td>1</td>\n",
       "      <td>2.0</td>\n",
       "      <td>0.5</td>\n",
       "      <td>1.0</td>\n",
       "      <td>0.5</td>\n",
       "      <td>1.0</td>\n",
       "      <td>1.0</td>\n",
       "      <td>1.0</td>\n",
       "      <td>2.0</td>\n",
       "      <td>1.0</td>\n",
       "      <td>1.0</td>\n",
       "      <td>1.0</td>\n",
       "      <td>2.0</td>\n",
       "      <td>1.0</td>\n",
       "      <td>0.5</td>\n",
       "      <td>1.0</td>\n",
       "      <td>1.0</td>\n",
       "      <td>1.0</td>\n",
       "    </tr>\n",
       "    <tr>\n",
       "      <th>3</th>\n",
       "      <td>Electric</td>\n",
       "      <td>1</td>\n",
       "      <td>1.0</td>\n",
       "      <td>2.0</td>\n",
       "      <td>0.5</td>\n",
       "      <td>0.5</td>\n",
       "      <td>1.0</td>\n",
       "      <td>1.0</td>\n",
       "      <td>1.0</td>\n",
       "      <td>0.0</td>\n",
       "      <td>2.0</td>\n",
       "      <td>1.0</td>\n",
       "      <td>1.0</td>\n",
       "      <td>1.0</td>\n",
       "      <td>1.0</td>\n",
       "      <td>0.5</td>\n",
       "      <td>1.0</td>\n",
       "      <td>1.0</td>\n",
       "      <td>1.0</td>\n",
       "    </tr>\n",
       "    <tr>\n",
       "      <th>4</th>\n",
       "      <td>Grass</td>\n",
       "      <td>1</td>\n",
       "      <td>0.5</td>\n",
       "      <td>2.0</td>\n",
       "      <td>1.0</td>\n",
       "      <td>0.5</td>\n",
       "      <td>1.0</td>\n",
       "      <td>1.0</td>\n",
       "      <td>0.5</td>\n",
       "      <td>2.0</td>\n",
       "      <td>0.5</td>\n",
       "      <td>1.0</td>\n",
       "      <td>0.5</td>\n",
       "      <td>2.0</td>\n",
       "      <td>1.0</td>\n",
       "      <td>0.5</td>\n",
       "      <td>1.0</td>\n",
       "      <td>0.5</td>\n",
       "      <td>1.0</td>\n",
       "    </tr>\n",
       "    <tr>\n",
       "      <th>5</th>\n",
       "      <td>Ice</td>\n",
       "      <td>1</td>\n",
       "      <td>0.5</td>\n",
       "      <td>0.5</td>\n",
       "      <td>1.0</td>\n",
       "      <td>2.0</td>\n",
       "      <td>0.5</td>\n",
       "      <td>1.0</td>\n",
       "      <td>1.0</td>\n",
       "      <td>2.0</td>\n",
       "      <td>2.0</td>\n",
       "      <td>1.0</td>\n",
       "      <td>1.0</td>\n",
       "      <td>1.0</td>\n",
       "      <td>1.0</td>\n",
       "      <td>2.0</td>\n",
       "      <td>1.0</td>\n",
       "      <td>0.5</td>\n",
       "      <td>1.0</td>\n",
       "    </tr>\n",
       "    <tr>\n",
       "      <th>6</th>\n",
       "      <td>Fighting</td>\n",
       "      <td>2</td>\n",
       "      <td>1.0</td>\n",
       "      <td>1.0</td>\n",
       "      <td>1.0</td>\n",
       "      <td>1.0</td>\n",
       "      <td>2.0</td>\n",
       "      <td>1.0</td>\n",
       "      <td>0.5</td>\n",
       "      <td>1.0</td>\n",
       "      <td>0.5</td>\n",
       "      <td>0.5</td>\n",
       "      <td>0.5</td>\n",
       "      <td>2.0</td>\n",
       "      <td>0.0</td>\n",
       "      <td>1.0</td>\n",
       "      <td>2.0</td>\n",
       "      <td>2.0</td>\n",
       "      <td>0.5</td>\n",
       "    </tr>\n",
       "    <tr>\n",
       "      <th>7</th>\n",
       "      <td>Poison</td>\n",
       "      <td>1</td>\n",
       "      <td>1.0</td>\n",
       "      <td>1.0</td>\n",
       "      <td>1.0</td>\n",
       "      <td>2.0</td>\n",
       "      <td>1.0</td>\n",
       "      <td>1.0</td>\n",
       "      <td>0.5</td>\n",
       "      <td>0.5</td>\n",
       "      <td>1.0</td>\n",
       "      <td>1.0</td>\n",
       "      <td>1.0</td>\n",
       "      <td>0.5</td>\n",
       "      <td>0.5</td>\n",
       "      <td>1.0</td>\n",
       "      <td>1.0</td>\n",
       "      <td>0.0</td>\n",
       "      <td>2.0</td>\n",
       "    </tr>\n",
       "    <tr>\n",
       "      <th>8</th>\n",
       "      <td>Ground</td>\n",
       "      <td>1</td>\n",
       "      <td>2.0</td>\n",
       "      <td>1.0</td>\n",
       "      <td>2.0</td>\n",
       "      <td>0.5</td>\n",
       "      <td>1.0</td>\n",
       "      <td>1.0</td>\n",
       "      <td>2.0</td>\n",
       "      <td>1.0</td>\n",
       "      <td>0.0</td>\n",
       "      <td>1.0</td>\n",
       "      <td>0.5</td>\n",
       "      <td>2.0</td>\n",
       "      <td>1.0</td>\n",
       "      <td>1.0</td>\n",
       "      <td>1.0</td>\n",
       "      <td>2.0</td>\n",
       "      <td>1.0</td>\n",
       "    </tr>\n",
       "    <tr>\n",
       "      <th>9</th>\n",
       "      <td>Flying</td>\n",
       "      <td>1</td>\n",
       "      <td>1.0</td>\n",
       "      <td>1.0</td>\n",
       "      <td>0.5</td>\n",
       "      <td>2.0</td>\n",
       "      <td>1.0</td>\n",
       "      <td>2.0</td>\n",
       "      <td>1.0</td>\n",
       "      <td>1.0</td>\n",
       "      <td>1.0</td>\n",
       "      <td>1.0</td>\n",
       "      <td>2.0</td>\n",
       "      <td>0.5</td>\n",
       "      <td>1.0</td>\n",
       "      <td>1.0</td>\n",
       "      <td>1.0</td>\n",
       "      <td>0.5</td>\n",
       "      <td>1.0</td>\n",
       "    </tr>\n",
       "    <tr>\n",
       "      <th>10</th>\n",
       "      <td>Psychic</td>\n",
       "      <td>1</td>\n",
       "      <td>1.0</td>\n",
       "      <td>1.0</td>\n",
       "      <td>1.0</td>\n",
       "      <td>1.0</td>\n",
       "      <td>1.0</td>\n",
       "      <td>2.0</td>\n",
       "      <td>2.0</td>\n",
       "      <td>1.0</td>\n",
       "      <td>1.0</td>\n",
       "      <td>0.5</td>\n",
       "      <td>1.0</td>\n",
       "      <td>1.0</td>\n",
       "      <td>1.0</td>\n",
       "      <td>1.0</td>\n",
       "      <td>0.0</td>\n",
       "      <td>0.5</td>\n",
       "      <td>1.0</td>\n",
       "    </tr>\n",
       "    <tr>\n",
       "      <th>11</th>\n",
       "      <td>Bug</td>\n",
       "      <td>1</td>\n",
       "      <td>0.5</td>\n",
       "      <td>1.0</td>\n",
       "      <td>1.0</td>\n",
       "      <td>2.0</td>\n",
       "      <td>1.0</td>\n",
       "      <td>0.5</td>\n",
       "      <td>0.5</td>\n",
       "      <td>1.0</td>\n",
       "      <td>0.5</td>\n",
       "      <td>2.0</td>\n",
       "      <td>1.0</td>\n",
       "      <td>1.0</td>\n",
       "      <td>0.5</td>\n",
       "      <td>1.0</td>\n",
       "      <td>2.0</td>\n",
       "      <td>0.5</td>\n",
       "      <td>0.5</td>\n",
       "    </tr>\n",
       "    <tr>\n",
       "      <th>12</th>\n",
       "      <td>Rock</td>\n",
       "      <td>1</td>\n",
       "      <td>2.0</td>\n",
       "      <td>1.0</td>\n",
       "      <td>1.0</td>\n",
       "      <td>1.0</td>\n",
       "      <td>2.0</td>\n",
       "      <td>0.5</td>\n",
       "      <td>1.0</td>\n",
       "      <td>0.5</td>\n",
       "      <td>2.0</td>\n",
       "      <td>1.0</td>\n",
       "      <td>2.0</td>\n",
       "      <td>1.0</td>\n",
       "      <td>1.0</td>\n",
       "      <td>1.0</td>\n",
       "      <td>1.0</td>\n",
       "      <td>0.5</td>\n",
       "      <td>1.0</td>\n",
       "    </tr>\n",
       "    <tr>\n",
       "      <th>13</th>\n",
       "      <td>Ghost</td>\n",
       "      <td>0</td>\n",
       "      <td>1.0</td>\n",
       "      <td>1.0</td>\n",
       "      <td>1.0</td>\n",
       "      <td>1.0</td>\n",
       "      <td>1.0</td>\n",
       "      <td>1.0</td>\n",
       "      <td>1.0</td>\n",
       "      <td>1.0</td>\n",
       "      <td>1.0</td>\n",
       "      <td>2.0</td>\n",
       "      <td>1.0</td>\n",
       "      <td>1.0</td>\n",
       "      <td>2.0</td>\n",
       "      <td>1.0</td>\n",
       "      <td>0.5</td>\n",
       "      <td>1.0</td>\n",
       "      <td>1.0</td>\n",
       "    </tr>\n",
       "    <tr>\n",
       "      <th>14</th>\n",
       "      <td>Dragon</td>\n",
       "      <td>1</td>\n",
       "      <td>1.0</td>\n",
       "      <td>1.0</td>\n",
       "      <td>1.0</td>\n",
       "      <td>1.0</td>\n",
       "      <td>1.0</td>\n",
       "      <td>1.0</td>\n",
       "      <td>1.0</td>\n",
       "      <td>1.0</td>\n",
       "      <td>1.0</td>\n",
       "      <td>1.0</td>\n",
       "      <td>1.0</td>\n",
       "      <td>1.0</td>\n",
       "      <td>1.0</td>\n",
       "      <td>2.0</td>\n",
       "      <td>1.0</td>\n",
       "      <td>0.5</td>\n",
       "      <td>0.0</td>\n",
       "    </tr>\n",
       "    <tr>\n",
       "      <th>15</th>\n",
       "      <td>Dark</td>\n",
       "      <td>1</td>\n",
       "      <td>1.0</td>\n",
       "      <td>1.0</td>\n",
       "      <td>1.0</td>\n",
       "      <td>1.0</td>\n",
       "      <td>1.0</td>\n",
       "      <td>0.5</td>\n",
       "      <td>1.0</td>\n",
       "      <td>1.0</td>\n",
       "      <td>1.0</td>\n",
       "      <td>2.0</td>\n",
       "      <td>1.0</td>\n",
       "      <td>1.0</td>\n",
       "      <td>2.0</td>\n",
       "      <td>1.0</td>\n",
       "      <td>0.5</td>\n",
       "      <td>1.0</td>\n",
       "      <td>0.5</td>\n",
       "    </tr>\n",
       "    <tr>\n",
       "      <th>16</th>\n",
       "      <td>Steel</td>\n",
       "      <td>1</td>\n",
       "      <td>0.5</td>\n",
       "      <td>0.5</td>\n",
       "      <td>0.5</td>\n",
       "      <td>1.0</td>\n",
       "      <td>2.0</td>\n",
       "      <td>1.0</td>\n",
       "      <td>1.0</td>\n",
       "      <td>1.0</td>\n",
       "      <td>1.0</td>\n",
       "      <td>1.0</td>\n",
       "      <td>1.0</td>\n",
       "      <td>2.0</td>\n",
       "      <td>1.0</td>\n",
       "      <td>1.0</td>\n",
       "      <td>1.0</td>\n",
       "      <td>0.5</td>\n",
       "      <td>2.0</td>\n",
       "    </tr>\n",
       "    <tr>\n",
       "      <th>17</th>\n",
       "      <td>Fairy</td>\n",
       "      <td>1</td>\n",
       "      <td>0.5</td>\n",
       "      <td>1.0</td>\n",
       "      <td>1.0</td>\n",
       "      <td>1.0</td>\n",
       "      <td>1.0</td>\n",
       "      <td>2.0</td>\n",
       "      <td>0.5</td>\n",
       "      <td>1.0</td>\n",
       "      <td>1.0</td>\n",
       "      <td>1.0</td>\n",
       "      <td>1.0</td>\n",
       "      <td>1.0</td>\n",
       "      <td>1.0</td>\n",
       "      <td>2.0</td>\n",
       "      <td>2.0</td>\n",
       "      <td>0.5</td>\n",
       "      <td>1.0</td>\n",
       "    </tr>\n",
       "  </tbody>\n",
       "</table>\n",
       "</div>"
      ],
      "text/plain": [
       "   Attacking  Normal  Fire  Water  Electric  Grass  Ice  Fighting  Poison  \\\n",
       "0     Normal       1   1.0    1.0       1.0    1.0  1.0       1.0     1.0   \n",
       "1       Fire       1   0.5    0.5       1.0    2.0  2.0       1.0     1.0   \n",
       "2      Water       1   2.0    0.5       1.0    0.5  1.0       1.0     1.0   \n",
       "3   Electric       1   1.0    2.0       0.5    0.5  1.0       1.0     1.0   \n",
       "4      Grass       1   0.5    2.0       1.0    0.5  1.0       1.0     0.5   \n",
       "5        Ice       1   0.5    0.5       1.0    2.0  0.5       1.0     1.0   \n",
       "6   Fighting       2   1.0    1.0       1.0    1.0  2.0       1.0     0.5   \n",
       "7     Poison       1   1.0    1.0       1.0    2.0  1.0       1.0     0.5   \n",
       "8     Ground       1   2.0    1.0       2.0    0.5  1.0       1.0     2.0   \n",
       "9     Flying       1   1.0    1.0       0.5    2.0  1.0       2.0     1.0   \n",
       "10   Psychic       1   1.0    1.0       1.0    1.0  1.0       2.0     2.0   \n",
       "11       Bug       1   0.5    1.0       1.0    2.0  1.0       0.5     0.5   \n",
       "12      Rock       1   2.0    1.0       1.0    1.0  2.0       0.5     1.0   \n",
       "13     Ghost       0   1.0    1.0       1.0    1.0  1.0       1.0     1.0   \n",
       "14    Dragon       1   1.0    1.0       1.0    1.0  1.0       1.0     1.0   \n",
       "15      Dark       1   1.0    1.0       1.0    1.0  1.0       0.5     1.0   \n",
       "16     Steel       1   0.5    0.5       0.5    1.0  2.0       1.0     1.0   \n",
       "17     Fairy       1   0.5    1.0       1.0    1.0  1.0       2.0     0.5   \n",
       "\n",
       "    Ground  Flying  Psychic  Bug  Rock  Ghost  Dragon  Dark  Steel  Fairy  \n",
       "0      1.0     1.0      1.0  1.0   0.5    0.0     1.0   1.0    0.5    1.0  \n",
       "1      1.0     1.0      1.0  2.0   0.5    1.0     0.5   1.0    2.0    1.0  \n",
       "2      2.0     1.0      1.0  1.0   2.0    1.0     0.5   1.0    1.0    1.0  \n",
       "3      0.0     2.0      1.0  1.0   1.0    1.0     0.5   1.0    1.0    1.0  \n",
       "4      2.0     0.5      1.0  0.5   2.0    1.0     0.5   1.0    0.5    1.0  \n",
       "5      2.0     2.0      1.0  1.0   1.0    1.0     2.0   1.0    0.5    1.0  \n",
       "6      1.0     0.5      0.5  0.5   2.0    0.0     1.0   2.0    2.0    0.5  \n",
       "7      0.5     1.0      1.0  1.0   0.5    0.5     1.0   1.0    0.0    2.0  \n",
       "8      1.0     0.0      1.0  0.5   2.0    1.0     1.0   1.0    2.0    1.0  \n",
       "9      1.0     1.0      1.0  2.0   0.5    1.0     1.0   1.0    0.5    1.0  \n",
       "10     1.0     1.0      0.5  1.0   1.0    1.0     1.0   0.0    0.5    1.0  \n",
       "11     1.0     0.5      2.0  1.0   1.0    0.5     1.0   2.0    0.5    0.5  \n",
       "12     0.5     2.0      1.0  2.0   1.0    1.0     1.0   1.0    0.5    1.0  \n",
       "13     1.0     1.0      2.0  1.0   1.0    2.0     1.0   0.5    1.0    1.0  \n",
       "14     1.0     1.0      1.0  1.0   1.0    1.0     2.0   1.0    0.5    0.0  \n",
       "15     1.0     1.0      2.0  1.0   1.0    2.0     1.0   0.5    1.0    0.5  \n",
       "16     1.0     1.0      1.0  1.0   2.0    1.0     1.0   1.0    0.5    2.0  \n",
       "17     1.0     1.0      1.0  1.0   1.0    1.0     2.0   2.0    0.5    1.0  "
      ]
     },
     "execution_count": 8,
     "metadata": {},
     "output_type": "execute_result"
    }
   ],
   "source": [
    "df"
   ]
  },
  {
   "cell_type": "code",
   "execution_count": 10,
   "metadata": {},
   "outputs": [
    {
     "data": {
      "text/plain": [
       "0     1.0\n",
       "1     0.5\n",
       "2     2.0\n",
       "3     1.0\n",
       "4     0.5\n",
       "5     0.5\n",
       "6     1.0\n",
       "7     1.0\n",
       "8     2.0\n",
       "9     1.0\n",
       "10    1.0\n",
       "11    0.5\n",
       "12    2.0\n",
       "13    1.0\n",
       "14    1.0\n",
       "15    1.0\n",
       "16    0.5\n",
       "17    0.5\n",
       "Name: Fire, dtype: float64"
      ]
     },
     "execution_count": 10,
     "metadata": {},
     "output_type": "execute_result"
    }
   ],
   "source": [
    "df.Fire"
   ]
  },
  {
   "cell_type": "code",
   "execution_count": 4,
   "metadata": {},
   "outputs": [
    {
     "data": {
      "text/plain": [
       "3    Electric\n",
       "4       Grass\n",
       "Name: Attacking, dtype: object"
      ]
     },
     "execution_count": 4,
     "metadata": {},
     "output_type": "execute_result"
    }
   ],
   "source": [
    "df[df['Water']==2]['Attacking']"
   ]
  },
  {
   "cell_type": "code",
   "execution_count": 29,
   "metadata": {},
   "outputs": [
    {
     "data": {
      "text/html": [
       "<div>\n",
       "<style scoped>\n",
       "    .dataframe tbody tr th:only-of-type {\n",
       "        vertical-align: middle;\n",
       "    }\n",
       "\n",
       "    .dataframe tbody tr th {\n",
       "        vertical-align: top;\n",
       "    }\n",
       "\n",
       "    .dataframe thead th {\n",
       "        text-align: right;\n",
       "    }\n",
       "</style>\n",
       "<table border=\"1\" class=\"dataframe\">\n",
       "  <thead>\n",
       "    <tr style=\"text-align: right;\">\n",
       "      <th></th>\n",
       "      <th>Attacking</th>\n",
       "      <th>Normal</th>\n",
       "      <th>Fire</th>\n",
       "      <th>Water</th>\n",
       "      <th>Electric</th>\n",
       "      <th>Grass</th>\n",
       "      <th>Ice</th>\n",
       "      <th>Fighting</th>\n",
       "      <th>Poison</th>\n",
       "      <th>Ground</th>\n",
       "      <th>Flying</th>\n",
       "      <th>Psychic</th>\n",
       "      <th>Bug</th>\n",
       "      <th>Rock</th>\n",
       "      <th>Ghost</th>\n",
       "      <th>Dragon</th>\n",
       "      <th>Dark</th>\n",
       "      <th>Steel</th>\n",
       "      <th>Fairy</th>\n",
       "      <th>Defesa</th>\n",
       "    </tr>\n",
       "  </thead>\n",
       "  <tbody>\n",
       "    <tr>\n",
       "      <th>2</th>\n",
       "      <td>Water</td>\n",
       "      <td>1</td>\n",
       "      <td>2.0</td>\n",
       "      <td>0.5</td>\n",
       "      <td>1.0</td>\n",
       "      <td>0.5</td>\n",
       "      <td>1.0</td>\n",
       "      <td>1.0</td>\n",
       "      <td>1.0</td>\n",
       "      <td>2.0</td>\n",
       "      <td>1.0</td>\n",
       "      <td>1.0</td>\n",
       "      <td>1.0</td>\n",
       "      <td>2.0</td>\n",
       "      <td>1.0</td>\n",
       "      <td>0.5</td>\n",
       "      <td>1.0</td>\n",
       "      <td>1.0</td>\n",
       "      <td>1.0</td>\n",
       "      <td>2.0</td>\n",
       "    </tr>\n",
       "  </tbody>\n",
       "</table>\n",
       "</div>"
      ],
      "text/plain": [
       "  Attacking  Normal  Fire  Water  Electric  Grass  Ice  Fighting  Poison  \\\n",
       "2     Water       1   2.0    0.5       1.0    0.5  1.0       1.0     1.0   \n",
       "\n",
       "   Ground  Flying  Psychic  Bug  Rock  Ghost  Dragon  Dark  Steel  Fairy  \\\n",
       "2     2.0     1.0      1.0  1.0   2.0    1.0     0.5   1.0    1.0    1.0   \n",
       "\n",
       "   Defesa  \n",
       "2     2.0  "
      ]
     },
     "execution_count": 29,
     "metadata": {},
     "output_type": "execute_result"
    }
   ],
   "source": [
    "df.loc[df['Attacking']=='Water']"
   ]
  },
  {
   "cell_type": "markdown",
   "metadata": {},
   "source": [
    "# Análise pelo lado da defesa do Pokemon"
   ]
  },
  {
   "cell_type": "code",
   "execution_count": 5,
   "metadata": {},
   "outputs": [],
   "source": [
    "#Funções de defesa (qual tipo tem fraqueza, ou seja, o tipo sofre duas vezes para as tipagens retornadas)\n",
    "\n",
    "def def_fraqueza(tipo):\n",
    "    return df.loc[(df[tipo])==2]['Attacking']\n",
    "\n",
    "def def_neutro(tipo):\n",
    "    return df.loc[(df[tipo])==1]['Attacking']\n",
    "\n",
    "def def_resistencia(tipo):\n",
    "    return df.loc[(df[tipo])==0.5]['Attacking']\n",
    "\n",
    "def def_imune(tipo):\n",
    "    return df.loc[(df[tipo])==0]['Attacking']"
   ]
  },
  {
   "cell_type": "code",
   "execution_count": 78,
   "metadata": {},
   "outputs": [
    {
     "data": {
      "text/plain": [
       "[Text(0.5,0,'Tipos'), Text(0.5,1,'Quantidade de Resistências')]"
      ]
     },
     "execution_count": 78,
     "metadata": {},
     "output_type": "execute_result"
    },
    {
     "data": {
      "image/png": "[encoded data removed]",
      "text/plain": [
       "<Figure size 1152x432 with 1 Axes>"
      ]
     },
     "metadata": {
      "needs_background": "light"
     },
     "output_type": "display_data"
    }
   ],
   "source": [
    "y = []\n",
    "tipos = 'Normal', 'Fire', 'Water', 'Electric', 'Grass', 'Ice', 'Fighting', 'Poison', 'Ground', 'Flying', 'Psychic', 'Bug', 'Rock', 'Ghost', 'Dragon', 'Dark', 'Steel', 'Fairy'\n",
    "\n",
    "for j in range(len(tipos)):\n",
    "    y.append(len(def_resistencia(tipos[j])))\n",
    "             \n",
    "\n",
    "x = 'Normal', 'Fire', 'Water', 'Electric', 'Grass', 'Ice', 'Fighting', 'Poison', 'Ground', 'Flying', 'Psychic', 'Bug', 'Rock', 'Ghost', 'Dragon', 'Dark', 'Steel', 'Fairy'\n",
    "\n",
    "fig, ax = plt.subplots(figsize=(16, 6))\n",
    "ax.bar(x, y)\n",
    "\n",
    "ax.set(title = \"Quantidade de Resistências\", xlabel = \"Tipos\")"
   ]
  },
  {
   "cell_type": "code",
   "execution_count": 94,
   "metadata": {},
   "outputs": [
    {
     "data": {
      "text/plain": [
       "4        Grass\n",
       "6     Fighting\n",
       "7       Poison\n",
       "11         Bug\n",
       "17       Fairy\n",
       "Name: Attacking, dtype: object"
      ]
     },
     "execution_count": 94,
     "metadata": {},
     "output_type": "execute_result"
    }
   ],
   "source": [
    "def_resistencia('Poison')"
   ]
  },
  {
   "cell_type": "code",
   "execution_count": 79,
   "metadata": {},
   "outputs": [
    {
     "data": {
      "text/plain": [
       "[Text(0.5,0,'Tipos'), Text(0.5,1,'Quantidade de Tipos Neutros Resistidos')]"
      ]
     },
     "execution_count": 79,
     "metadata": {},
     "output_type": "execute_result"
    },
    {
     "data": {
      "image/png": "[encoded data removed]",
      "text/plain": [
       "<Figure size 1152x432 with 1 Axes>"
      ]
     },
     "metadata": {
      "needs_background": "light"
     },
     "output_type": "display_data"
    }
   ],
   "source": [
    "y = []\n",
    "tipos = 'Normal', 'Fire', 'Water', 'Electric', 'Grass', 'Ice', 'Fighting', 'Poison', 'Ground', 'Flying', 'Psychic', 'Bug', 'Rock', 'Ghost', 'Dragon', 'Dark', 'Steel', 'Fairy'\n",
    "\n",
    "for j in range(len(tipos)):\n",
    "    y.append(len(def_neutro(tipos[j])))\n",
    "             \n",
    "fig, ax = plt.subplots(figsize=(16, 6))\n",
    "ax.bar(tipos, y)\n",
    "\n",
    "ax.set(title = \"Quantidade de Tipos Neutros Resistidos\", xlabel = \"Tipos\")"
   ]
  },
  {
   "cell_type": "code",
   "execution_count": 93,
   "metadata": {},
   "outputs": [
    {
     "data": {
      "text/plain": [
       "2        Water\n",
       "3     Electric\n",
       "13       Ghost\n",
       "15        Dark\n",
       "Name: Attacking, dtype: object"
      ]
     },
     "execution_count": 93,
     "metadata": {},
     "output_type": "execute_result"
    }
   ],
   "source": [
    "def_neutro('Steel')"
   ]
  },
  {
   "cell_type": "code",
   "execution_count": 80,
   "metadata": {},
   "outputs": [
    {
     "data": {
      "text/plain": [
       "[Text(0.5,0,'Tipos'), Text(0.5,1,'Quantidade de Fraquezas')]"
      ]
     },
     "execution_count": 80,
     "metadata": {},
     "output_type": "execute_result"
    },
    {
     "data": {
      "image/png": "[encoded data removed]",
      "text/plain": [
       "<Figure size 1152x432 with 1 Axes>"
      ]
     },
     "metadata": {
      "needs_background": "light"
     },
     "output_type": "display_data"
    }
   ],
   "source": [
    "y = []\n",
    "tipos = 'Normal', 'Fire', 'Water', 'Electric', 'Grass', 'Ice', 'Fighting', 'Poison', 'Ground', 'Flying', 'Psychic', 'Bug', 'Rock', 'Ghost', 'Dragon', 'Dark', 'Steel', 'Fairy'\n",
    "\n",
    "for j in range(len(tipos)):\n",
    "    y.append(len(def_fraqueza(tipos[j])))\n",
    "\n",
    "fig, ax = plt.subplots(figsize=(16, 6))\n",
    "ax.bar(tipos, y)\n",
    "\n",
    "ax.set(title = \"Quantidade de Fraquezas\", xlabel = \"Tipos\")"
   ]
  },
  {
   "cell_type": "code",
   "execution_count": 89,
   "metadata": {},
   "outputs": [
    {
     "data": {
      "text/plain": [
       "2        Water\n",
       "4        Grass\n",
       "6     Fighting\n",
       "8       Ground\n",
       "16       Steel\n",
       "Name: Attacking, dtype: object"
      ]
     },
     "execution_count": 89,
     "metadata": {},
     "output_type": "execute_result"
    }
   ],
   "source": [
    "def_fraqueza('Rock')"
   ]
  },
  {
   "cell_type": "code",
   "execution_count": 81,
   "metadata": {},
   "outputs": [
    {
     "data": {
      "text/plain": [
       "[Text(0.5,0,'Tipos'), Text(0.5,1,'Quantidade de Tipos Imunes')]"
      ]
     },
     "execution_count": 81,
     "metadata": {},
     "output_type": "execute_result"
    },
    {
     "data": {
      "image/png": "[encoded data removed]",
      "text/plain": [
       "<Figure size 1152x432 with 1 Axes>"
      ]
     },
     "metadata": {
      "needs_background": "light"
     },
     "output_type": "display_data"
    }
   ],
   "source": [
    "y = []\n",
    "tipos = 'Normal', 'Fire', 'Water', 'Electric', 'Grass', 'Ice', 'Fighting', 'Poison', 'Ground', 'Flying', 'Psychic', 'Bug', 'Rock', 'Ghost', 'Dragon', 'Dark', 'Steel', 'Fairy'\n",
    "\n",
    "for j in range(len(tipos)):\n",
    "    y.append(len(def_imune(tipos[j])))\n",
    "             \n",
    "fig, ax = plt.subplots(figsize=(16, 6))\n",
    "ax.bar(tipos, y)\n",
    "\n",
    "ax.set(title = \"Quantidade de Tipos Imunes\", xlabel = \"Tipos\")"
   ]
  },
  {
   "cell_type": "code",
   "execution_count": 7,
   "metadata": {},
   "outputs": [
    {
     "data": {
      "text/plain": [
       "0      Normal\n",
       "6    Fighting\n",
       "Name: Attacking, dtype: object"
      ]
     },
     "execution_count": 7,
     "metadata": {},
     "output_type": "execute_result"
    }
   ],
   "source": [
    "def_imune('Ghost')"
   ]
  },
  {
   "cell_type": "markdown",
   "metadata": {},
   "source": [
    "# Funções para achar os tipos em cada categoria de defesa, de acordo com a combinação passada na função"
   ]
  },
  {
   "cell_type": "code",
   "execution_count": 6,
   "metadata": {},
   "outputs": [],
   "source": [
    "tipos = ['Normal', 'Fire', 'Water', 'Electric', 'Grass', 'Ice', 'Fighting', 'Poison', 'Ground', 'Flying', 'Psychic', 'Bug', 'Rock', 'Ghost', 'Dragon', 'Dark', 'Steel', 'Fairy']\n",
    "dic = {}\n",
    "def tipagem_dupla_defesa(tipo1, tipo2):\n",
    "    df['Defesa'] = df[tipo1]*df[tipo2]\n",
    "    for i in range(len(tipos)):\n",
    "        dic[tipos[i]] = df['Defesa'].iloc[i]\n",
    "    return dic\n",
    "\n",
    "def tipagem_dupla_defesa_neutro(tipo1, tipo2):\n",
    "    tipagem_dupla_defesa(tipo1, tipo2)\n",
    "    neutro = [(key) for (key, value) in dic.items() if value == 1]\n",
    "    print(f'Essa tipagem resiste neutro às tipagens: {neutro}')\n",
    "\n",
    "def tipagem_dupla_defesa_super2x(tipo1, tipo2):\n",
    "    tipagem_dupla_defesa(tipo1, tipo2)\n",
    "    super2x = [(key) for (key, value) in dic.items() if value == 2]\n",
    "    print(f'Essa combinação de tipos sofre superefetivo 2 vezes às tipagens: {super2x}')\n",
    "    \n",
    "def tipagem_dupla_defesa_super4x(tipo1, tipo2):\n",
    "    tipagem_dupla_defesa(tipo1, tipo2)\n",
    "    super4x = [(key) for (key, value) in dic.items() if value == 4]\n",
    "    print(f'Essa combinação de tipos sofre superefetivo 4 vezes às tipagens: {super4x}')\n",
    "    \n",
    "def tipagem_dupla_defesa_resistido(tipo1, tipo2):\n",
    "    tipagem_dupla_defesa(tipo1, tipo2)\n",
    "    resistido = [(key) for (key, value) in dic.items() if value == 0.5]\n",
    "    print(f'Essa combinação de tipos possui as tipagens resistidas 1 vez: {resistido}')\n",
    "    \n",
    "def tipagem_dupla_defesa_resistido2x(tipo1, tipo2):\n",
    "    tipagem_dupla_defesa(tipo1, tipo2)\n",
    "    resistido2x = [(key) for (key, value) in dic.items() if value == 0.25]\n",
    "    print(f'Essa combinação de tipos possui as tipagens resistidas 2 vezes:{resistido2x}')\n",
    "    \n",
    "def tipagem_dupla_defesa_imune(tipo1, tipo2):\n",
    "    tipagem_dupla_defesa(tipo1, tipo2)\n",
    "    imune = [(key) for (key, value) in dic.items() if value == 0]\n",
    "    print(f'Essa combinação de tipos possui as tipagens imunes: {imune}')"
   ]
  },
  {
   "cell_type": "markdown",
   "metadata": {},
   "source": [
    "# Funções para achar o Top 10 de combinações de tipos pelo lado defensivo"
   ]
  },
  {
   "cell_type": "code",
   "execution_count": 7,
   "metadata": {},
   "outputs": [],
   "source": [
    "pares_tipos = [list((tipos[p1], tipos[p2])) for p1 in range(len(tipos)) for p2 in range(p1+1,len(tipos))]\n",
    "teste = dict()\n",
    "\n",
    "def top10_resistido2x():\n",
    "    for i in range(len(pares_tipos)):\n",
    "        tipagem_dupla_defesa(pares_tipos[i][0], pares_tipos[i][1])\n",
    "        resistido2x = [(key) for (key, value) in dic.items() if value == 0.25]\n",
    "        teste[pares_tipos[i][0], pares_tipos[i][1]] = len(resistido2x)\n",
    "    return sorted(teste.items(), key=lambda x: x[1], reverse=True)[:10]\n",
    "\n",
    "def top10_resistido():\n",
    "    for i in range(len(pares_tipos)):\n",
    "        tipagem_dupla_defesa(pares_tipos[i][0], pares_tipos[i][1])\n",
    "        resistido = [(key) for (key, value) in dic.items() if value == 0.5]\n",
    "        teste[pares_tipos[i][0], pares_tipos[i][1]] = len(resistido)\n",
    "    return sorted(teste.items(), key=lambda x: x[1], reverse=True)[:10]\n",
    "\n",
    "def top10_imune():\n",
    "    for i in range(len(pares_tipos)):\n",
    "        tipagem_dupla_defesa(pares_tipos[i][0], pares_tipos[i][1])\n",
    "        imune = [(key) for (key, value) in dic.items() if value == 0]\n",
    "        teste[pares_tipos[i][0], pares_tipos[i][1]] = len(imune)\n",
    "    return sorted(teste.items(), key=lambda x: x[1], reverse=True)[:10]\n",
    "\n",
    "def top10_super2x():\n",
    "    for i in range(len(pares_tipos)):\n",
    "        tipagem_dupla_defesa(pares_tipos[i][0], pares_tipos[i][1])\n",
    "        super2x = [(key) for (key, value) in dic.items() if value == 2]\n",
    "        teste[pares_tipos[i][0], pares_tipos[i][1]] = len(super2x)\n",
    "    return sorted(teste.items(), key=lambda x: x[1], reverse=True)[:10]\n",
    "\n",
    "def top10_super4x():\n",
    "    for i in range(len(pares_tipos)):\n",
    "        tipagem_dupla_defesa(pares_tipos[i][0], pares_tipos[i][1])\n",
    "        super4x = [(key) for (key, value) in dic.items() if value == 4]\n",
    "        teste[pares_tipos[i][0], pares_tipos[i][1]] = len(super4x)\n",
    "    return sorted(teste.items(), key=lambda x: x[1], reverse=True)[:10]\n",
    "\n",
    "def top10_neutro():\n",
    "    for i in range(len(pares_tipos)):\n",
    "        tipagem_dupla_defesa(pares_tipos[i][0], pares_tipos[i][1])\n",
    "        neutro = [(key) for (key, value) in dic.items() if value == 1]\n",
    "        teste[pares_tipos[i][0], pares_tipos[i][1]] = len(neutro)\n",
    "    return sorted(teste.items(), key=lambda x: x[1], reverse=True)[:10]"
   ]
  },
  {
   "cell_type": "code",
   "execution_count": 152,
   "metadata": {},
   "outputs": [
    {
     "data": {
      "text/plain": [
       "[(('Fire', 'Steel'), 5),\n",
       " (('Fire', 'Water'), 3),\n",
       " (('Fire', 'Poison'), 3),\n",
       " (('Grass', 'Dragon'), 3),\n",
       " (('Poison', 'Flying'), 3),\n",
       " (('Poison', 'Steel'), 3),\n",
       " (('Fire', 'Flying'), 2),\n",
       " (('Fire', 'Dragon'), 2),\n",
       " (('Water', 'Dragon'), 2),\n",
       " (('Water', 'Steel'), 2)]"
      ]
     },
     "execution_count": 152,
     "metadata": {},
     "output_type": "execute_result"
    }
   ],
   "source": [
    "top10_resistido2x()"
   ]
  },
  {
   "cell_type": "code",
   "execution_count": 153,
   "metadata": {},
   "outputs": [
    {
     "data": {
      "text/plain": [
       "[(('Normal', 'Steel'), 10),\n",
       " (('Electric', 'Steel'), 9),\n",
       " (('Dark', 'Steel'), 9),\n",
       " (('Water', 'Poison'), 8),\n",
       " (('Water', 'Steel'), 8),\n",
       " (('Electric', 'Poison'), 8),\n",
       " (('Grass', 'Steel'), 8),\n",
       " (('Psychic', 'Steel'), 8),\n",
       " (('Ghost', 'Steel'), 8),\n",
       " (('Dragon', 'Steel'), 8)]"
      ]
     },
     "execution_count": 153,
     "metadata": {},
     "output_type": "execute_result"
    }
   ],
   "source": [
    "top10_resistido()"
   ]
  },
  {
   "cell_type": "code",
   "execution_count": 158,
   "metadata": {},
   "outputs": [
    {
     "data": {
      "text/plain": [
       "[(('Normal', 'Ghost'), 3),\n",
       " (('Ground', 'Ghost'), 3),\n",
       " (('Flying', 'Ghost'), 3),\n",
       " (('Ghost', 'Dark'), 3),\n",
       " (('Ghost', 'Steel'), 3),\n",
       " (('Ghost', 'Fairy'), 3),\n",
       " (('Normal', 'Ground'), 2),\n",
       " (('Normal', 'Flying'), 2),\n",
       " (('Normal', 'Dark'), 2),\n",
       " (('Normal', 'Steel'), 2)]"
      ]
     },
     "execution_count": 158,
     "metadata": {},
     "output_type": "execute_result"
    }
   ],
   "source": [
    "top10_imune()"
   ]
  },
  {
   "cell_type": "code",
   "execution_count": 159,
   "metadata": {},
   "outputs": [
    {
     "data": {
      "text/plain": [
       "[(('Fighting', 'Rock'), 7),\n",
       " (('Psychic', 'Rock'), 7),\n",
       " (('Normal', 'Grass'), 6),\n",
       " (('Grass', 'Ice'), 6),\n",
       " (('Grass', 'Psychic'), 6),\n",
       " (('Grass', 'Dark'), 6),\n",
       " (('Ice', 'Fighting'), 6),\n",
       " (('Ice', 'Psychic'), 6),\n",
       " (('Fighting', 'Ground'), 6),\n",
       " (('Ground', 'Psychic'), 6)]"
      ]
     },
     "execution_count": 159,
     "metadata": {},
     "output_type": "execute_result"
    }
   ],
   "source": [
    "top10_super2x()"
   ]
  },
  {
   "cell_type": "code",
   "execution_count": 160,
   "metadata": {},
   "outputs": [
    {
     "data": {
      "text/plain": [
       "[(('Fire', 'Rock'), 2),\n",
       " (('Grass', 'Bug'), 2),\n",
       " (('Ice', 'Bug'), 2),\n",
       " (('Ice', 'Rock'), 2),\n",
       " (('Ice', 'Steel'), 2),\n",
       " (('Ground', 'Rock'), 2),\n",
       " (('Psychic', 'Ghost'), 2),\n",
       " (('Rock', 'Steel'), 2),\n",
       " (('Normal', 'Ice'), 1),\n",
       " (('Normal', 'Rock'), 1)]"
      ]
     },
     "execution_count": 160,
     "metadata": {},
     "output_type": "execute_result"
    }
   ],
   "source": [
    "top10_super4x()"
   ]
  },
  {
   "cell_type": "code",
   "execution_count": 161,
   "metadata": {},
   "outputs": [
    {
     "data": {
      "text/plain": [
       "[(('Psychic', 'Dark'), 15),\n",
       " (('Normal', 'Psychic'), 14),\n",
       " (('Water', 'Dragon'), 13),\n",
       " (('Fighting', 'Psychic'), 13),\n",
       " (('Bug', 'Rock'), 13),\n",
       " (('Ghost', 'Dark'), 13),\n",
       " (('Normal', 'Electric'), 12),\n",
       " (('Normal', 'Ice'), 12),\n",
       " (('Normal', 'Bug'), 12),\n",
       " (('Normal', 'Ghost'), 12)]"
      ]
     },
     "execution_count": 161,
     "metadata": {},
     "output_type": "execute_result"
    }
   ],
   "source": [
    "top10_neutro()"
   ]
  },
  {
   "cell_type": "code",
   "execution_count": 16,
   "metadata": {},
   "outputs": [
    {
     "data": {
      "text/plain": [
       "{'Normal': 1.0,\n",
       " 'Fire': 1.0,\n",
       " 'Water': 1.0,\n",
       " 'Electric': 1.0,\n",
       " 'Grass': 0.5,\n",
       " 'Ice': 1.0,\n",
       " 'Fighting': 1.0,\n",
       " 'Poison': 0.5,\n",
       " 'Ground': 2.0,\n",
       " 'Flying': 1.0,\n",
       " 'Psychic': 0.0,\n",
       " 'Bug': 1.0,\n",
       " 'Rock': 1.0,\n",
       " 'Ghost': 0.5,\n",
       " 'Dragon': 1.0,\n",
       " 'Dark': 0.5,\n",
       " 'Steel': 1.0,\n",
       " 'Fairy': 1.0}"
      ]
     },
     "execution_count": 16,
     "metadata": {},
     "output_type": "execute_result"
    }
   ],
   "source": [
    "tipagem_dupla_defesa('Poison', 'Dark')"
   ]
  },
  {
   "cell_type": "code",
   "execution_count": 8,
   "metadata": {},
   "outputs": [
    {
     "name": "stdout",
     "output_type": "stream",
     "text": [
      "Essa combinação de tipos sofre superefetivo 2 vezes às tipagens: ['Ground']\n"
     ]
    }
   ],
   "source": [
    "tipagem_dupla_defesa_super2x('Dark', 'Poison')"
   ]
  },
  {
   "cell_type": "code",
   "execution_count": 9,
   "metadata": {},
   "outputs": [
    {
     "name": "stdout",
     "output_type": "stream",
     "text": [
      "Essa combinação de tipos sofre superefetivo 4 vezes às tipagens: []\n"
     ]
    }
   ],
   "source": [
    "tipagem_dupla_defesa_super4x('Ice', 'Poison')"
   ]
  },
  {
   "cell_type": "code",
   "execution_count": 11,
   "metadata": {},
   "outputs": [
    {
     "name": "stdout",
     "output_type": "stream",
     "text": [
      "Essa combinação de tipos possui as tipagens resistidas 1 vez: ['Grass', 'Poison', 'Ghost', 'Dark']\n"
     ]
    }
   ],
   "source": [
    "tipagem_dupla_defesa_resistido('Dark', 'Poison')"
   ]
  },
  {
   "cell_type": "code",
   "execution_count": 18,
   "metadata": {},
   "outputs": [
    {
     "name": "stdout",
     "output_type": "stream",
     "text": [
      "Essa combinação de tipos possui as tipagens resistidas 2 vezes:['Grass', 'Ice', 'Bug', 'Steel', 'Fairy']\n"
     ]
    }
   ],
   "source": [
    "tipagem_dupla_defesa_resistido2x('Fire', 'Steel')"
   ]
  },
  {
   "cell_type": "code",
   "execution_count": 13,
   "metadata": {},
   "outputs": [
    {
     "name": "stdout",
     "output_type": "stream",
     "text": [
      "Essa combinação de tipos possui as tipagens imunes: ['Psychic']\n"
     ]
    }
   ],
   "source": [
    "tipagem_dupla_defesa_imune('Dark', 'Poison')"
   ]
  },
  {
   "cell_type": "code",
   "execution_count": 14,
   "metadata": {},
   "outputs": [
    {
     "name": "stdout",
     "output_type": "stream",
     "text": [
      "Essa tipagem resiste neutro às tipagens: ['Normal', 'Fire', 'Water', 'Electric', 'Ice', 'Fighting', 'Flying', 'Bug', 'Rock', 'Dragon', 'Steel', 'Fairy']\n"
     ]
    }
   ],
   "source": [
    "tipagem_dupla_defesa_neutro('Dark', 'Poison')"
   ]
  },
  {
   "cell_type": "markdown",
   "metadata": {},
   "source": [
    "# Análise pelo lado do ataque do Pokemon"
   ]
  },
  {
   "cell_type": "code",
   "execution_count": 6,
   "metadata": {},
   "outputs": [],
   "source": [
    "super=[]\n",
    "neutro=[]\n",
    "resistido=[]\n",
    "imune=[]\n",
    "\n",
    "for i in range(18):\n",
    "    super.append(df.columns[(df == 2).iloc[i]])\n",
    "    neutro.append(df.columns[(df == 1).iloc[i]])\n",
    "    resistido.append(df.columns[(df == 0.5).iloc[i]])\n",
    "    imune.append(df.columns[(df == 0).iloc[i]])"
   ]
  },
  {
   "cell_type": "code",
   "execution_count": 7,
   "metadata": {},
   "outputs": [
    {
     "data": {
      "text/plain": [
       "[Index(['Rock', 'Steel'], dtype='object'),\n",
       " Index(['Fire', 'Water', 'Rock', 'Dragon'], dtype='object'),\n",
       " Index(['Water', 'Grass', 'Dragon'], dtype='object'),\n",
       " Index(['Electric', 'Grass', 'Dragon'], dtype='object'),\n",
       " Index(['Fire', 'Grass', 'Poison', 'Flying', 'Bug', 'Dragon', 'Steel'], dtype='object'),\n",
       " Index(['Fire', 'Water', 'Ice', 'Steel'], dtype='object'),\n",
       " Index(['Poison', 'Flying', 'Psychic', 'Bug', 'Fairy'], dtype='object'),\n",
       " Index(['Poison', 'Ground', 'Rock', 'Ghost'], dtype='object'),\n",
       " Index(['Grass', 'Bug'], dtype='object'),\n",
       " Index(['Electric', 'Rock', 'Steel'], dtype='object'),\n",
       " Index(['Psychic', 'Steel'], dtype='object'),\n",
       " Index(['Fire', 'Fighting', 'Poison', 'Flying', 'Ghost', 'Steel', 'Fairy'], dtype='object'),\n",
       " Index(['Fighting', 'Ground', 'Steel'], dtype='object'),\n",
       " Index(['Dark'], dtype='object'),\n",
       " Index(['Steel'], dtype='object'),\n",
       " Index(['Fighting', 'Dark', 'Fairy'], dtype='object'),\n",
       " Index(['Fire', 'Water', 'Electric', 'Steel'], dtype='object'),\n",
       " Index(['Fire', 'Poison', 'Steel'], dtype='object')]"
      ]
     },
     "execution_count": 7,
     "metadata": {},
     "output_type": "execute_result"
    }
   ],
   "source": [
    "resistido"
   ]
  },
  {
   "cell_type": "code",
   "execution_count": 10,
   "metadata": {},
   "outputs": [],
   "source": [
    "tipos = ['Normal', 'Fire', 'Water', 'Electric', 'Grass', 'Ice', 'Fighting', 'Poison', 'Ground', 'Flying', 'Psychic', 'Bug', 'Rock', 'Ghost', 'Dragon', 'Dark', 'Steel', 'Fairy']\n",
    "\n",
    "def trans(tipo):\n",
    "    for i in range(len(tipos)):\n",
    "        if tipos[i] == tipo:\n",
    "            return i"
   ]
  },
  {
   "cell_type": "code",
   "execution_count": 11,
   "metadata": {},
   "outputs": [
    {
     "data": {
      "text/plain": [
       "13"
      ]
     },
     "execution_count": 11,
     "metadata": {},
     "output_type": "execute_result"
    }
   ],
   "source": [
    "trans('Ghost')"
   ]
  },
  {
   "cell_type": "code",
   "execution_count": 12,
   "metadata": {},
   "outputs": [],
   "source": [
    "#Funções de ataque (qual tipo é supereficaz, ou seja, o tipo dá o dano duas vezes para as tipagens retornadas)\n",
    "\n",
    "tipos = 'Normal', 'Fire', 'Water', 'Electric', 'Grass', 'Ice', 'Fighting', 'Poison', 'Ground', 'Flying', 'Psychic', 'Bug', 'Rock', 'Ghost', 'Dragon', 'Dark', 'Steel', 'Fairy'\n",
    "\n",
    "def atc_super(tipo):\n",
    "    i = trans(tipo)\n",
    "    return df.columns[(df == 2).iloc[i]]\n",
    "   \n",
    "def atc_neutro(tipo):\n",
    "    i = trans(tipo)\n",
    "    return df.columns[(df == 1).iloc[i]]\n",
    "\n",
    "def atc_resistido(tipo):\n",
    "    i = trans(tipo)\n",
    "    return df.columns[(df == 0.5).iloc[i]]\n",
    "\n",
    "def atc_imune(tipo):\n",
    "    i = trans(tipo)\n",
    "    return df.columns[(df == 0).iloc[i]]\n"
   ]
  },
  {
   "cell_type": "code",
   "execution_count": 84,
   "metadata": {},
   "outputs": [
    {
     "data": {
      "text/plain": [
       "[Text(0.5,0,'Tipos'),\n",
       " Text(0.5,1,'Quantidade de Tipos Resistidos por seu Ataque')]"
      ]
     },
     "execution_count": 84,
     "metadata": {},
     "output_type": "execute_result"
    },
    {
     "data": {
      "image/png": "[encoded data removed]",
      "text/plain": [
       "<Figure size 1152x432 with 1 Axes>"
      ]
     },
     "metadata": {
      "needs_background": "light"
     },
     "output_type": "display_data"
    }
   ],
   "source": [
    "y = []\n",
    "for i in range(len(resistido)):\n",
    "    y.append(len(resistido[i]))\n",
    "    \n",
    "x = 'Normal', 'Fire', 'Water', 'Electric', 'Grass', 'Ice', 'Fighting', 'Poison', 'Ground', 'Flying', 'Psychic', 'Bug', 'Rock', 'Ghost', 'Dragon', 'Dark', 'Steel', 'Fairy'\n",
    "\n",
    "fig, ax = plt.subplots(figsize=(16, 6))\n",
    "ax.bar(x, y)\n",
    "\n",
    "ax.set(title = \"Quantidade de Tipos Resistidos por seu Ataque\", xlabel = \"Tipos\")\n"
   ]
  },
  {
   "cell_type": "code",
   "execution_count": 119,
   "metadata": {},
   "outputs": [
    {
     "data": {
      "text/plain": [
       "Index(['Fire', 'Grass', 'Poison', 'Flying', 'Bug', 'Dragon', 'Steel'], dtype='object')"
      ]
     },
     "execution_count": 119,
     "metadata": {},
     "output_type": "execute_result"
    }
   ],
   "source": [
    "atc_resistido('Grass')"
   ]
  },
  {
   "cell_type": "code",
   "execution_count": 85,
   "metadata": {},
   "outputs": [
    {
     "data": {
      "text/plain": [
       "[Text(0.5,0,'Tipos'), Text(0.5,1,'Quantidade de Ataques Neutros')]"
      ]
     },
     "execution_count": 85,
     "metadata": {},
     "output_type": "execute_result"
    },
    {
     "data": {
      "image/png": "[encoded data removed]",
      "text/plain": [
       "<Figure size 1152x432 with 1 Axes>"
      ]
     },
     "metadata": {
      "needs_background": "light"
     },
     "output_type": "display_data"
    }
   ],
   "source": [
    "y = []\n",
    "for i in range(len(neutro)):\n",
    "    y.append(len(neutro[i]))\n",
    "    \n",
    "x = 'Normal', 'Fire', 'Water', 'Electric', 'Grass', 'Ice', 'Fighting', 'Poison', 'Ground', 'Flying', 'Psychic', 'Bug', 'Rock', 'Ghost', 'Dragon', 'Dark', 'Steel', 'Fairy'\n",
    "\n",
    "fig, ax = plt.subplots(figsize=(16, 6))\n",
    "ax.bar(x, y)\n",
    "\n",
    "ax.set(title = \"Quantidade de Ataques Neutros\", xlabel = \"Tipos\")"
   ]
  },
  {
   "cell_type": "code",
   "execution_count": 120,
   "metadata": {},
   "outputs": [
    {
     "data": {
      "text/plain": [
       "Index(['Fire', 'Water', 'Electric', 'Grass', 'Fighting', 'Ground', 'Dragon'], dtype='object')"
      ]
     },
     "execution_count": 120,
     "metadata": {},
     "output_type": "execute_result"
    }
   ],
   "source": [
    "atc_neutro('Fighting')"
   ]
  },
  {
   "cell_type": "code",
   "execution_count": 86,
   "metadata": {},
   "outputs": [
    {
     "data": {
      "text/plain": [
       "[Text(0.5,0,'Tipos'), Text(0.5,1,'Quantidade de Ataques Imunes')]"
      ]
     },
     "execution_count": 86,
     "metadata": {},
     "output_type": "execute_result"
    },
    {
     "data": {
      "image/png": "[encoded data removed]",
      "text/plain": [
       "<Figure size 1152x432 with 1 Axes>"
      ]
     },
     "metadata": {
      "needs_background": "light"
     },
     "output_type": "display_data"
    }
   ],
   "source": [
    "y = []\n",
    "for i in range(len(imune)):\n",
    "    y.append(len(imune[i]))\n",
    "    \n",
    "x = 'Normal', 'Fire', 'Water', 'Electric', 'Grass', 'Ice', 'Fighting', 'Poison', 'Ground', 'Flying', 'Psychic', 'Bug', 'Rock', 'Ghost', 'Dragon', 'Dark', 'Steel', 'Fairy'\n",
    "\n",
    "fig, ax = plt.subplots(figsize=(16, 6))\n",
    "ax.bar(x, y)\n",
    "\n",
    "ax.set(title = \"Quantidade de Ataques Imunes\", xlabel = \"Tipos\")"
   ]
  },
  {
   "cell_type": "code",
   "execution_count": 122,
   "metadata": {},
   "outputs": [
    {
     "data": {
      "text/plain": [
       "Index(['Ghost'], dtype='object')"
      ]
     },
     "execution_count": 122,
     "metadata": {},
     "output_type": "execute_result"
    }
   ],
   "source": [
    "atc_imune('Normal')"
   ]
  },
  {
   "cell_type": "code",
   "execution_count": 87,
   "metadata": {},
   "outputs": [
    {
     "data": {
      "text/plain": [
       "[Text(0.5,0,'Tipos'), Text(0.5,1,'Quantidade de Superefetivos')]"
      ]
     },
     "execution_count": 87,
     "metadata": {},
     "output_type": "execute_result"
    },
    {
     "data": {
      "image/png": "[encoded data removed]",
      "text/plain": [
       "<Figure size 1152x432 with 1 Axes>"
      ]
     },
     "metadata": {
      "needs_background": "light"
     },
     "output_type": "display_data"
    }
   ],
   "source": [
    "y = []\n",
    "for i in range(len(super)):\n",
    "    y.append(len(super[i]))\n",
    "    \n",
    "x = 'Normal', 'Fire', 'Water', 'Electric', 'Grass', 'Ice', 'Fighting', 'Poison', 'Ground', 'Flying', 'Psychic', 'Bug', 'Rock', 'Ghost', 'Dragon', 'Dark', 'Steel', 'Fairy'\n",
    "\n",
    "fig, ax = plt.subplots(figsize=(16, 6))\n",
    "ax.bar(x, y)\n",
    "\n",
    "ax.set(title = \"Quantidade de Superefetivos\", xlabel = \"Tipos\")"
   ]
  },
  {
   "cell_type": "code",
   "execution_count": 124,
   "metadata": {},
   "outputs": [
    {
     "data": {
      "text/plain": [
       "Index(['Fire', 'Electric', 'Poison', 'Rock', 'Steel'], dtype='object')"
      ]
     },
     "execution_count": 124,
     "metadata": {},
     "output_type": "execute_result"
    }
   ],
   "source": [
    "atc_super('Ground')"
   ]
  },
  {
   "cell_type": "code",
   "execution_count": 52,
   "metadata": {},
   "outputs": [
    {
     "data": {
      "text/plain": [
       "'Normal'"
      ]
     },
     "execution_count": 52,
     "metadata": {},
     "output_type": "execute_result"
    }
   ],
   "source": [
    "df.columns[(df == 1).iloc[3]][0]"
   ]
  },
  {
   "cell_type": "markdown",
   "metadata": {},
   "source": [
    "# Funções que contabilizam a quantidade nas categorias de ataque dos STABs da combinação passada"
   ]
  },
  {
   "cell_type": "code",
   "execution_count": 61,
   "metadata": {},
   "outputs": [],
   "source": [
    "def tipagem_dupla_atc_super(tipo1, tipo2):\n",
    "    lista_tipo1 = []\n",
    "    i = trans(tipo1)\n",
    "    for x in range(len(df.columns[(df == 2).iloc[i]])):\n",
    "        lista_tipo1.append(df.columns[(df == 2).iloc[i]][x])\n",
    "    lista_tipo2 = []\n",
    "    j = trans(tipo2)\n",
    "    for x in range(len(df.columns[(df == 2).iloc[j]])):\n",
    "        lista_tipo2.append(df.columns[(df == 2).iloc[j]][x])\n",
    "    lista_tipo1.extend(lista_tipo2)\n",
    "    return list(set(lista_tipo1))\n",
    "\n",
    "def tipagem_dupla_atc_neutro(tipo1, tipo2):\n",
    "    lista_tipo1 = []\n",
    "    i = trans(tipo1)\n",
    "    for x in range(len(df.columns[(df == 1).iloc[i]])):\n",
    "        lista_tipo1.append(df.columns[(df == 1).iloc[i]][x])\n",
    "    lista_tipo2 = []\n",
    "    j = trans(tipo2)\n",
    "    for x in range(len(df.columns[(df == 1).iloc[j]])):\n",
    "        lista_tipo2.append(df.columns[(df == 1).iloc[j]][x])\n",
    "    lista_tipo1.extend(lista_tipo2)\n",
    "    return list(set(lista_tipo1))\n",
    "\n",
    "def tipagem_dupla_atc_resistido(tipo1, tipo2):\n",
    "    lista_tipo1 = []\n",
    "    i = trans(tipo1)\n",
    "    for x in range(len(df.columns[(df == 0.5).iloc[i]])):\n",
    "        lista_tipo1.append(df.columns[(df == 0.5).iloc[i]][x])\n",
    "    lista_tipo2 = []\n",
    "    j = trans(tipo2)\n",
    "    for x in range(len(df.columns[(df == 0.5).iloc[j]])):\n",
    "        lista_tipo2.append(df.columns[(df == 0.5).iloc[j]][x])\n",
    "    lista_tipo1.extend(lista_tipo2)\n",
    "    return list(set(lista_tipo1))\n",
    "\n",
    "def tipagem_dupla_atc_imune(tipo1, tipo2):\n",
    "    lista_tipo1 = []\n",
    "    i = trans(tipo1)\n",
    "    for x in range(len(df.columns[(df == 0).iloc[i]])):\n",
    "        lista_tipo1.append(df.columns[(df == 0).iloc[i]][x])\n",
    "    lista_tipo2 = []\n",
    "    j = trans(tipo2)\n",
    "    for x in range(len(df.columns[(df == 0).iloc[j]])):\n",
    "        lista_tipo2.append(df.columns[(df == 0).iloc[j]][x])\n",
    "    lista_tipo1.extend(lista_tipo2)\n",
    "    return list(set(lista_tipo1))"
   ]
  },
  {
   "cell_type": "markdown",
   "metadata": {},
   "source": [
    "# Ataques Superefetivos dos STABs"
   ]
  },
  {
   "cell_type": "code",
   "execution_count": 143,
   "metadata": {},
   "outputs": [
    {
     "data": {
      "text/plain": [
       "[(('Ice', 'Fighting'), 9),\n",
       " (('Ice', 'Ground'), 9),\n",
       " (('Fire', 'Ground'), 8),\n",
       " (('Fighting', 'Ground'), 8),\n",
       " (('Fighting', 'Flying'), 8),\n",
       " (('Fighting', 'Rock'), 8),\n",
       " (('Ground', 'Flying'), 8),\n",
       " (('Ground', 'Bug'), 8),\n",
       " (('Ground', 'Rock'), 8),\n",
       " (('Ground', 'Fairy'), 8)]"
      ]
     },
     "execution_count": 143,
     "metadata": {},
     "output_type": "execute_result"
    }
   ],
   "source": [
    "pares_tipos = [list((tipos[p1], tipos[p2])) for p1 in range(len(tipos)) for p2 in range(p1+1,len(tipos))]\n",
    "tamanho = dict()\n",
    "\n",
    "for i in range(len(pares_tipos)):\n",
    "    tamanho[tuple(pares_tipos[i])] = len(tipagem_dupla_atc_super(pares_tipos[i][0], pares_tipos[i][1]))\n",
    "    \n",
    "sorted(tamanho.items(), key=lambda x: x[1], reverse=True)[:10]\n"
   ]
  },
  {
   "cell_type": "code",
   "execution_count": 136,
   "metadata": {},
   "outputs": [
    {
     "data": {
      "text/plain": [
       "['Dark',\n",
       " 'Rock',\n",
       " 'Ground',\n",
       " 'Normal',\n",
       " 'Flying',\n",
       " 'Ice',\n",
       " 'Steel',\n",
       " 'Dragon',\n",
       " 'Grass']"
      ]
     },
     "execution_count": 136,
     "metadata": {},
     "output_type": "execute_result"
    }
   ],
   "source": [
    "tipagem_dupla_atc_super('Ice', 'Fighting')"
   ]
  },
  {
   "cell_type": "markdown",
   "metadata": {},
   "source": [
    "# Ataques Neutros dos STABs"
   ]
  },
  {
   "cell_type": "code",
   "execution_count": 133,
   "metadata": {},
   "outputs": [
    {
     "data": {
      "text/plain": [
       "[(('Normal', 'Electric'), 18),\n",
       " (('Fire', 'Ghost'), 18),\n",
       " (('Fire', 'Dark'), 18),\n",
       " (('Water', 'Psychic'), 18),\n",
       " (('Water', 'Ghost'), 18),\n",
       " (('Water', 'Dark'), 18),\n",
       " (('Electric', 'Psychic'), 18),\n",
       " (('Electric', 'Ghost'), 18),\n",
       " (('Electric', 'Dark'), 18),\n",
       " (('Grass', 'Ghost'), 18)]"
      ]
     },
     "execution_count": 133,
     "metadata": {},
     "output_type": "execute_result"
    }
   ],
   "source": [
    "pares_tipos = [list((tipos[p1], tipos[p2])) for p1 in range(len(tipos)) for p2 in range(p1+1,len(tipos))]\n",
    "tamanho = dict()\n",
    "\n",
    "for i in range(len(pares_tipos)):\n",
    "    tamanho[tuple(pares_tipos[i])] = len(tipagem_dupla_atc_neutro(pares_tipos[i][0], pares_tipos[i][1]))\n",
    "\n",
    "sorted(tamanho.items(), key=lambda x: x[1], reverse=True)[:10]"
   ]
  },
  {
   "cell_type": "code",
   "execution_count": 137,
   "metadata": {},
   "outputs": [
    {
     "data": {
      "text/plain": [
       "['Fighting',\n",
       " 'Dark',\n",
       " 'Rock',\n",
       " 'Water',\n",
       " 'Ground',\n",
       " 'Normal',\n",
       " 'Fairy',\n",
       " 'Fire',\n",
       " 'Flying',\n",
       " 'Electric',\n",
       " 'Ice',\n",
       " 'Bug',\n",
       " 'Ghost',\n",
       " 'Steel',\n",
       " 'Psychic',\n",
       " 'Dragon',\n",
       " 'Poison',\n",
       " 'Grass']"
      ]
     },
     "execution_count": 137,
     "metadata": {},
     "output_type": "execute_result"
    }
   ],
   "source": [
    "tipagem_dupla_atc_neutro('Normal', 'Electric')"
   ]
  },
  {
   "cell_type": "markdown",
   "metadata": {},
   "source": [
    "# Ataques Resistidos dos STABs"
   ]
  },
  {
   "cell_type": "code",
   "execution_count": 128,
   "metadata": {},
   "outputs": [
    {
     "data": {
      "text/plain": [
       "[(('Fire', 'Bug'), 10),\n",
       " (('Water', 'Bug'), 10),\n",
       " (('Electric', 'Bug'), 10),\n",
       " (('Grass', 'Poison'), 10),\n",
       " (('Grass', 'Bug'), 10),\n",
       " (('Grass', 'Dark'), 10),\n",
       " (('Fire', 'Grass'), 9),\n",
       " (('Fire', 'Fighting'), 9),\n",
       " (('Grass', 'Ice'), 9),\n",
       " (('Grass', 'Fighting'), 9)]"
      ]
     },
     "execution_count": 128,
     "metadata": {},
     "output_type": "execute_result"
    }
   ],
   "source": [
    "pares_tipos = [list((tipos[p1], tipos[p2])) for p1 in range(len(tipos)) for p2 in range(p1+1,len(tipos))]\n",
    "tamanho = dict()\n",
    "\n",
    "for i in range(len(pares_tipos)):\n",
    "    tamanho[tuple(pares_tipos[i])] = len(tipagem_dupla_atc_resistido(pares_tipos[i][0], pares_tipos[i][1]))\n",
    "\n",
    "sorted(tamanho.items(), key=lambda x: x[1], reverse=True)[:10]"
   ]
  },
  {
   "cell_type": "code",
   "execution_count": 74,
   "metadata": {},
   "outputs": [
    {
     "data": {
      "text/plain": [
       "['Fighting',\n",
       " 'Rock',\n",
       " 'Water',\n",
       " 'Fairy',\n",
       " 'Fire',\n",
       " 'Flying',\n",
       " 'Ghost',\n",
       " 'Steel',\n",
       " 'Dragon',\n",
       " 'Poison']"
      ]
     },
     "execution_count": 74,
     "metadata": {},
     "output_type": "execute_result"
    }
   ],
   "source": [
    "tipagem_dupla_atc_resistido('Fire', 'Bug')"
   ]
  },
  {
   "cell_type": "markdown",
   "metadata": {},
   "source": [
    "# Ataques Imunes dos STABs"
   ]
  },
  {
   "cell_type": "code",
   "execution_count": 127,
   "metadata": {},
   "outputs": [
    {
     "data": {
      "text/plain": [
       "[(('Normal', 'Electric'), 2),\n",
       " (('Normal', 'Poison'), 2),\n",
       " (('Normal', 'Ground'), 2),\n",
       " (('Normal', 'Psychic'), 2),\n",
       " (('Normal', 'Ghost'), 2),\n",
       " (('Normal', 'Dragon'), 2),\n",
       " (('Electric', 'Fighting'), 2),\n",
       " (('Electric', 'Poison'), 2),\n",
       " (('Electric', 'Ground'), 2),\n",
       " (('Electric', 'Psychic'), 2)]"
      ]
     },
     "execution_count": 127,
     "metadata": {},
     "output_type": "execute_result"
    }
   ],
   "source": [
    "pares_tipos = [list((tipos[p1], tipos[p2])) for p1 in range(len(tipos)) for p2 in range(p1+1,len(tipos))]\n",
    "tamanho = dict()\n",
    "\n",
    "for i in range(len(pares_tipos)):\n",
    "    tamanho[tuple(pares_tipos[i])] = len(tipagem_dupla_atc_imune(pares_tipos[i][0], pares_tipos[i][1]))\n",
    "\n",
    "sorted(tamanho.items(), key=lambda x: x[1], reverse=True)[:10]"
   ]
  },
  {
   "cell_type": "code",
   "execution_count": 138,
   "metadata": {},
   "outputs": [
    {
     "data": {
      "text/plain": [
       "['Ground', 'Ghost']"
      ]
     },
     "execution_count": 138,
     "metadata": {},
     "output_type": "execute_result"
    }
   ],
   "source": [
    "tipagem_dupla_atc_imune('Normal', 'Electric')"
   ]
  },
  {
   "cell_type": "markdown",
   "metadata": {},
   "source": [
    "# Rascunho"
   ]
  },
  {
   "cell_type": "code",
   "execution_count": 82,
   "metadata": {},
   "outputs": [
    {
     "data": {
      "text/html": [
       "<div>\n",
       "<style scoped>\n",
       "    .dataframe tbody tr th:only-of-type {\n",
       "        vertical-align: middle;\n",
       "    }\n",
       "\n",
       "    .dataframe tbody tr th {\n",
       "        vertical-align: top;\n",
       "    }\n",
       "\n",
       "    .dataframe thead th {\n",
       "        text-align: right;\n",
       "    }\n",
       "</style>\n",
       "<table border=\"1\" class=\"dataframe\">\n",
       "  <thead>\n",
       "    <tr style=\"text-align: right;\">\n",
       "      <th></th>\n",
       "      <th>Attacking</th>\n",
       "      <th>Normal</th>\n",
       "      <th>Fire</th>\n",
       "      <th>Water</th>\n",
       "      <th>Electric</th>\n",
       "      <th>Grass</th>\n",
       "      <th>Ice</th>\n",
       "      <th>Fighting</th>\n",
       "      <th>Poison</th>\n",
       "      <th>Ground</th>\n",
       "      <th>Flying</th>\n",
       "      <th>Psychic</th>\n",
       "      <th>Bug</th>\n",
       "      <th>Rock</th>\n",
       "      <th>Ghost</th>\n",
       "      <th>Dragon</th>\n",
       "      <th>Dark</th>\n",
       "      <th>Steel</th>\n",
       "      <th>Fairy</th>\n",
       "    </tr>\n",
       "  </thead>\n",
       "  <tbody>\n",
       "    <tr>\n",
       "      <th>3</th>\n",
       "      <td>Electric</td>\n",
       "      <td>1</td>\n",
       "      <td>1.0</td>\n",
       "      <td>2.0</td>\n",
       "      <td>0.5</td>\n",
       "      <td>0.5</td>\n",
       "      <td>1.0</td>\n",
       "      <td>1.0</td>\n",
       "      <td>1.0</td>\n",
       "      <td>0.0</td>\n",
       "      <td>2.0</td>\n",
       "      <td>1.0</td>\n",
       "      <td>1.0</td>\n",
       "      <td>1.0</td>\n",
       "      <td>1.0</td>\n",
       "      <td>0.5</td>\n",
       "      <td>1.0</td>\n",
       "      <td>1.0</td>\n",
       "      <td>1.0</td>\n",
       "    </tr>\n",
       "    <tr>\n",
       "      <th>4</th>\n",
       "      <td>Grass</td>\n",
       "      <td>1</td>\n",
       "      <td>0.5</td>\n",
       "      <td>2.0</td>\n",
       "      <td>1.0</td>\n",
       "      <td>0.5</td>\n",
       "      <td>1.0</td>\n",
       "      <td>1.0</td>\n",
       "      <td>0.5</td>\n",
       "      <td>2.0</td>\n",
       "      <td>0.5</td>\n",
       "      <td>1.0</td>\n",
       "      <td>0.5</td>\n",
       "      <td>2.0</td>\n",
       "      <td>1.0</td>\n",
       "      <td>0.5</td>\n",
       "      <td>1.0</td>\n",
       "      <td>0.5</td>\n",
       "      <td>1.0</td>\n",
       "    </tr>\n",
       "  </tbody>\n",
       "</table>\n",
       "</div>"
      ],
      "text/plain": [
       "  Attacking  Normal  Fire  Water  Electric  Grass  Ice  Fighting  Poison  \\\n",
       "3  Electric       1   1.0    2.0       0.5    0.5  1.0       1.0     1.0   \n",
       "4     Grass       1   0.5    2.0       1.0    0.5  1.0       1.0     0.5   \n",
       "\n",
       "   Ground  Flying  Psychic  Bug  Rock  Ghost  Dragon  Dark  Steel  Fairy  \n",
       "3     0.0     2.0      1.0  1.0   1.0    1.0     0.5   1.0    1.0    1.0  \n",
       "4     2.0     0.5      1.0  0.5   2.0    1.0     0.5   1.0    0.5    1.0  "
      ]
     },
     "execution_count": 82,
     "metadata": {},
     "output_type": "execute_result"
    }
   ],
   "source": [
    "df[(df['Water'])==2]"
   ]
  },
  {
   "cell_type": "code",
   "execution_count": 31,
   "metadata": {},
   "outputs": [
    {
     "data": {
      "text/plain": [
       "0.5"
      ]
     },
     "execution_count": 31,
     "metadata": {},
     "output_type": "execute_result"
    }
   ],
   "source": [
    "df.iloc[0,13]"
   ]
  },
  {
   "cell_type": "code",
   "execution_count": 27,
   "metadata": {},
   "outputs": [
    {
     "data": {
      "text/html": [
       "<div>\n",
       "<style scoped>\n",
       "    .dataframe tbody tr th:only-of-type {\n",
       "        vertical-align: middle;\n",
       "    }\n",
       "\n",
       "    .dataframe tbody tr th {\n",
       "        vertical-align: top;\n",
       "    }\n",
       "\n",
       "    .dataframe thead th {\n",
       "        text-align: right;\n",
       "    }\n",
       "</style>\n",
       "<table border=\"1\" class=\"dataframe\">\n",
       "  <thead>\n",
       "    <tr style=\"text-align: right;\">\n",
       "      <th></th>\n",
       "      <th>Attacking</th>\n",
       "      <th>Normal</th>\n",
       "      <th>Fire</th>\n",
       "      <th>Water</th>\n",
       "      <th>Electric</th>\n",
       "      <th>Grass</th>\n",
       "      <th>Ice</th>\n",
       "      <th>Fighting</th>\n",
       "      <th>Poison</th>\n",
       "      <th>Ground</th>\n",
       "      <th>Flying</th>\n",
       "      <th>Psychic</th>\n",
       "      <th>Bug</th>\n",
       "      <th>Rock</th>\n",
       "      <th>Ghost</th>\n",
       "      <th>Dragon</th>\n",
       "      <th>Dark</th>\n",
       "      <th>Steel</th>\n",
       "      <th>Fairy</th>\n",
       "    </tr>\n",
       "  </thead>\n",
       "  <tbody>\n",
       "    <tr>\n",
       "      <th>0</th>\n",
       "      <td>Normal</td>\n",
       "      <td>1</td>\n",
       "      <td>1.0</td>\n",
       "      <td>1.0</td>\n",
       "      <td>1.0</td>\n",
       "      <td>1.0</td>\n",
       "      <td>1.0</td>\n",
       "      <td>1.0</td>\n",
       "      <td>1.0</td>\n",
       "      <td>1.0</td>\n",
       "      <td>1.0</td>\n",
       "      <td>1.0</td>\n",
       "      <td>1.0</td>\n",
       "      <td>0.5</td>\n",
       "      <td>0.0</td>\n",
       "      <td>1.0</td>\n",
       "      <td>1.0</td>\n",
       "      <td>0.5</td>\n",
       "      <td>1.0</td>\n",
       "    </tr>\n",
       "  </tbody>\n",
       "</table>\n",
       "</div>"
      ],
      "text/plain": [
       "  Attacking  Normal  Fire  Water  Electric  Grass  Ice  Fighting  Poison  \\\n",
       "0    Normal       1   1.0    1.0       1.0    1.0  1.0       1.0     1.0   \n",
       "\n",
       "   Ground  Flying  Psychic  Bug  Rock  Ghost  Dragon  Dark  Steel  Fairy  \n",
       "0     1.0     1.0      1.0  1.0   0.5    0.0     1.0   1.0    0.5    1.0  "
      ]
     },
     "execution_count": 27,
     "metadata": {},
     "output_type": "execute_result"
    }
   ],
   "source": [
    "df.loc[df['Attacking']=='Normal']"
   ]
  },
  {
   "cell_type": "code",
   "execution_count": 32,
   "metadata": {},
   "outputs": [
    {
     "data": {
      "text/html": [
       "<div>\n",
       "<style scoped>\n",
       "    .dataframe tbody tr th:only-of-type {\n",
       "        vertical-align: middle;\n",
       "    }\n",
       "\n",
       "    .dataframe tbody tr th {\n",
       "        vertical-align: top;\n",
       "    }\n",
       "\n",
       "    .dataframe thead th {\n",
       "        text-align: right;\n",
       "    }\n",
       "</style>\n",
       "<table border=\"1\" class=\"dataframe\">\n",
       "  <thead>\n",
       "    <tr style=\"text-align: right;\">\n",
       "      <th></th>\n",
       "      <th>Attacking</th>\n",
       "      <th>Normal</th>\n",
       "      <th>Fire</th>\n",
       "      <th>Water</th>\n",
       "      <th>Electric</th>\n",
       "      <th>Grass</th>\n",
       "      <th>Ice</th>\n",
       "      <th>Fighting</th>\n",
       "      <th>Poison</th>\n",
       "      <th>Ground</th>\n",
       "      <th>Flying</th>\n",
       "      <th>Psychic</th>\n",
       "      <th>Bug</th>\n",
       "      <th>Rock</th>\n",
       "      <th>Ghost</th>\n",
       "      <th>Dragon</th>\n",
       "      <th>Dark</th>\n",
       "      <th>Steel</th>\n",
       "      <th>Fairy</th>\n",
       "    </tr>\n",
       "  </thead>\n",
       "  <tbody>\n",
       "    <tr>\n",
       "      <th>2</th>\n",
       "      <td>Water</td>\n",
       "      <td>1</td>\n",
       "      <td>2.0</td>\n",
       "      <td>0.5</td>\n",
       "      <td>1.0</td>\n",
       "      <td>0.5</td>\n",
       "      <td>1.0</td>\n",
       "      <td>1.0</td>\n",
       "      <td>1.0</td>\n",
       "      <td>2.0</td>\n",
       "      <td>1.0</td>\n",
       "      <td>1.0</td>\n",
       "      <td>1.0</td>\n",
       "      <td>2.0</td>\n",
       "      <td>1.0</td>\n",
       "      <td>0.5</td>\n",
       "      <td>1.0</td>\n",
       "      <td>1.0</td>\n",
       "      <td>1.0</td>\n",
       "    </tr>\n",
       "    <tr>\n",
       "      <th>8</th>\n",
       "      <td>Ground</td>\n",
       "      <td>1</td>\n",
       "      <td>2.0</td>\n",
       "      <td>1.0</td>\n",
       "      <td>2.0</td>\n",
       "      <td>0.5</td>\n",
       "      <td>1.0</td>\n",
       "      <td>1.0</td>\n",
       "      <td>2.0</td>\n",
       "      <td>1.0</td>\n",
       "      <td>0.0</td>\n",
       "      <td>1.0</td>\n",
       "      <td>0.5</td>\n",
       "      <td>2.0</td>\n",
       "      <td>1.0</td>\n",
       "      <td>1.0</td>\n",
       "      <td>1.0</td>\n",
       "      <td>2.0</td>\n",
       "      <td>1.0</td>\n",
       "    </tr>\n",
       "    <tr>\n",
       "      <th>12</th>\n",
       "      <td>Rock</td>\n",
       "      <td>1</td>\n",
       "      <td>2.0</td>\n",
       "      <td>1.0</td>\n",
       "      <td>1.0</td>\n",
       "      <td>1.0</td>\n",
       "      <td>2.0</td>\n",
       "      <td>0.5</td>\n",
       "      <td>1.0</td>\n",
       "      <td>0.5</td>\n",
       "      <td>2.0</td>\n",
       "      <td>1.0</td>\n",
       "      <td>2.0</td>\n",
       "      <td>1.0</td>\n",
       "      <td>1.0</td>\n",
       "      <td>1.0</td>\n",
       "      <td>1.0</td>\n",
       "      <td>0.5</td>\n",
       "      <td>1.0</td>\n",
       "    </tr>\n",
       "  </tbody>\n",
       "</table>\n",
       "</div>"
      ],
      "text/plain": [
       "   Attacking  Normal  Fire  Water  Electric  Grass  Ice  Fighting  Poison  \\\n",
       "2      Water       1   2.0    0.5       1.0    0.5  1.0       1.0     1.0   \n",
       "8     Ground       1   2.0    1.0       2.0    0.5  1.0       1.0     2.0   \n",
       "12      Rock       1   2.0    1.0       1.0    1.0  2.0       0.5     1.0   \n",
       "\n",
       "    Ground  Flying  Psychic  Bug  Rock  Ghost  Dragon  Dark  Steel  Fairy  \n",
       "2      2.0     1.0      1.0  1.0   2.0    1.0     0.5   1.0    1.0    1.0  \n",
       "8      1.0     0.0      1.0  0.5   2.0    1.0     1.0   1.0    2.0    1.0  \n",
       "12     0.5     2.0      1.0  2.0   1.0    1.0     1.0   1.0    0.5    1.0  "
      ]
     },
     "execution_count": 32,
     "metadata": {},
     "output_type": "execute_result"
    }
   ],
   "source": [
    "df.loc[(df['Fire'])==2]"
   ]
  },
  {
   "cell_type": "code",
   "execution_count": 129,
   "metadata": {},
   "outputs": [
    {
     "data": {
      "text/plain": [
       "(0       Normal\n",
       " 1         Fire\n",
       " 2        Water\n",
       " 3     Electric\n",
       " 4        Grass\n",
       " 5          Ice\n",
       " 6     Fighting\n",
       " 7       Poison\n",
       " 8       Ground\n",
       " 9       Flying\n",
       " 10     Psychic\n",
       " 11         Bug\n",
       " 12        Rock\n",
       " 13       Ghost\n",
       " 14      Dragon\n",
       " 15        Dark\n",
       " 16       Steel\n",
       " 17       Fairy\n",
       " Name: Attacking, dtype: object,\n",
       "    Attacking  Normal  Fire  Water  Electric  Grass  Ice  Fighting  Poison  \\\n",
       " 2      Water       1   2.0    0.5       1.0    0.5  1.0       1.0     1.0   \n",
       " 8     Ground       1   2.0    1.0       2.0    0.5  1.0       1.0     2.0   \n",
       " 12      Rock       1   2.0    1.0       1.0    1.0  2.0       0.5     1.0   \n",
       " \n",
       "     Ground  Flying  Psychic  Bug  Rock  Ghost  Dragon  Dark  Steel  Fairy  \n",
       " 2      2.0     1.0      1.0  1.0   2.0    1.0     0.5   1.0    1.0    1.0  \n",
       " 8      1.0     0.0      1.0  0.5   2.0    1.0     1.0   1.0    2.0    1.0  \n",
       " 12     0.5     2.0      1.0  2.0   1.0    1.0     1.0   1.0    0.5    1.0  )"
      ]
     },
     "execution_count": 129,
     "metadata": {},
     "output_type": "execute_result"
    }
   ],
   "source": [
    "df['Attacking'] df.loc[(df['Fire'])==2]"
   ]
  },
  {
   "cell_type": "code",
   "execution_count": 123,
   "metadata": {},
   "outputs": [
    {
     "data": {
      "text/html": [
       "<div>\n",
       "<style scoped>\n",
       "    .dataframe tbody tr th:only-of-type {\n",
       "        vertical-align: middle;\n",
       "    }\n",
       "\n",
       "    .dataframe tbody tr th {\n",
       "        vertical-align: top;\n",
       "    }\n",
       "\n",
       "    .dataframe thead th {\n",
       "        text-align: right;\n",
       "    }\n",
       "</style>\n",
       "<table border=\"1\" class=\"dataframe\">\n",
       "  <thead>\n",
       "    <tr style=\"text-align: right;\">\n",
       "      <th></th>\n",
       "      <th>Attacking</th>\n",
       "      <th>Normal</th>\n",
       "      <th>Fire</th>\n",
       "      <th>Water</th>\n",
       "      <th>Electric</th>\n",
       "      <th>Grass</th>\n",
       "      <th>Ice</th>\n",
       "      <th>Fighting</th>\n",
       "      <th>Poison</th>\n",
       "      <th>Ground</th>\n",
       "      <th>Flying</th>\n",
       "      <th>Psychic</th>\n",
       "      <th>Bug</th>\n",
       "      <th>Rock</th>\n",
       "      <th>Ghost</th>\n",
       "      <th>Dragon</th>\n",
       "      <th>Dark</th>\n",
       "      <th>Steel</th>\n",
       "      <th>Fairy</th>\n",
       "    </tr>\n",
       "  </thead>\n",
       "  <tbody>\n",
       "    <tr>\n",
       "      <th>3</th>\n",
       "      <td>Electric</td>\n",
       "      <td>1</td>\n",
       "      <td>1.0</td>\n",
       "      <td>2.0</td>\n",
       "      <td>0.5</td>\n",
       "      <td>0.5</td>\n",
       "      <td>1.0</td>\n",
       "      <td>1.0</td>\n",
       "      <td>1.0</td>\n",
       "      <td>0.0</td>\n",
       "      <td>2.0</td>\n",
       "      <td>1.0</td>\n",
       "      <td>1.0</td>\n",
       "      <td>1.0</td>\n",
       "      <td>1.0</td>\n",
       "      <td>0.5</td>\n",
       "      <td>1.0</td>\n",
       "      <td>1.0</td>\n",
       "      <td>1.0</td>\n",
       "    </tr>\n",
       "    <tr>\n",
       "      <th>4</th>\n",
       "      <td>Grass</td>\n",
       "      <td>1</td>\n",
       "      <td>0.5</td>\n",
       "      <td>2.0</td>\n",
       "      <td>1.0</td>\n",
       "      <td>0.5</td>\n",
       "      <td>1.0</td>\n",
       "      <td>1.0</td>\n",
       "      <td>0.5</td>\n",
       "      <td>2.0</td>\n",
       "      <td>0.5</td>\n",
       "      <td>1.0</td>\n",
       "      <td>0.5</td>\n",
       "      <td>2.0</td>\n",
       "      <td>1.0</td>\n",
       "      <td>0.5</td>\n",
       "      <td>1.0</td>\n",
       "      <td>0.5</td>\n",
       "      <td>1.0</td>\n",
       "    </tr>\n",
       "  </tbody>\n",
       "</table>\n",
       "</div>"
      ],
      "text/plain": [
       "  Attacking  Normal  Fire  Water  Electric  Grass  Ice  Fighting  Poison  \\\n",
       "3  Electric       1   1.0    2.0       0.5    0.5  1.0       1.0     1.0   \n",
       "4     Grass       1   0.5    2.0       1.0    0.5  1.0       1.0     0.5   \n",
       "\n",
       "   Ground  Flying  Psychic  Bug  Rock  Ghost  Dragon  Dark  Steel  Fairy  \n",
       "3     0.0     2.0      1.0  1.0   1.0    1.0     0.5   1.0    1.0    1.0  \n",
       "4     2.0     0.5      1.0  0.5   2.0    1.0     0.5   1.0    0.5    1.0  "
      ]
     },
     "execution_count": 123,
     "metadata": {},
     "output_type": "execute_result"
    }
   ],
   "source": [
    "df.loc[(df['Water'])==2]"
   ]
  },
  {
   "cell_type": "code",
   "execution_count": 53,
   "metadata": {},
   "outputs": [
    {
     "data": {
      "text/html": [
       "<div>\n",
       "<style scoped>\n",
       "    .dataframe tbody tr th:only-of-type {\n",
       "        vertical-align: middle;\n",
       "    }\n",
       "\n",
       "    .dataframe tbody tr th {\n",
       "        vertical-align: top;\n",
       "    }\n",
       "\n",
       "    .dataframe thead th {\n",
       "        text-align: right;\n",
       "    }\n",
       "</style>\n",
       "<table border=\"1\" class=\"dataframe\">\n",
       "  <thead>\n",
       "    <tr style=\"text-align: right;\">\n",
       "      <th></th>\n",
       "      <th>Attacking</th>\n",
       "      <th>Normal</th>\n",
       "      <th>Fire</th>\n",
       "      <th>Water</th>\n",
       "      <th>Electric</th>\n",
       "      <th>Grass</th>\n",
       "      <th>Ice</th>\n",
       "      <th>Fighting</th>\n",
       "      <th>Poison</th>\n",
       "      <th>Ground</th>\n",
       "      <th>Flying</th>\n",
       "      <th>Psychic</th>\n",
       "      <th>Bug</th>\n",
       "      <th>Rock</th>\n",
       "      <th>Ghost</th>\n",
       "      <th>Dragon</th>\n",
       "      <th>Dark</th>\n",
       "      <th>Steel</th>\n",
       "      <th>Fairy</th>\n",
       "    </tr>\n",
       "  </thead>\n",
       "  <tbody>\n",
       "    <tr>\n",
       "      <th>3</th>\n",
       "      <td>Electric</td>\n",
       "      <td>1</td>\n",
       "      <td>1.0</td>\n",
       "      <td>2.0</td>\n",
       "      <td>0.5</td>\n",
       "      <td>0.5</td>\n",
       "      <td>1.0</td>\n",
       "      <td>1.0</td>\n",
       "      <td>1.0</td>\n",
       "      <td>0.0</td>\n",
       "      <td>2.0</td>\n",
       "      <td>1.0</td>\n",
       "      <td>1.0</td>\n",
       "      <td>1.0</td>\n",
       "      <td>1.0</td>\n",
       "      <td>0.5</td>\n",
       "      <td>1.0</td>\n",
       "      <td>1.0</td>\n",
       "      <td>1.0</td>\n",
       "    </tr>\n",
       "    <tr>\n",
       "      <th>4</th>\n",
       "      <td>Grass</td>\n",
       "      <td>1</td>\n",
       "      <td>0.5</td>\n",
       "      <td>2.0</td>\n",
       "      <td>1.0</td>\n",
       "      <td>0.5</td>\n",
       "      <td>1.0</td>\n",
       "      <td>1.0</td>\n",
       "      <td>0.5</td>\n",
       "      <td>2.0</td>\n",
       "      <td>0.5</td>\n",
       "      <td>1.0</td>\n",
       "      <td>0.5</td>\n",
       "      <td>2.0</td>\n",
       "      <td>1.0</td>\n",
       "      <td>0.5</td>\n",
       "      <td>1.0</td>\n",
       "      <td>0.5</td>\n",
       "      <td>1.0</td>\n",
       "    </tr>\n",
       "  </tbody>\n",
       "</table>\n",
       "</div>"
      ],
      "text/plain": [
       "  Attacking  Normal  Fire  Water  Electric  Grass  Ice  Fighting  Poison  \\\n",
       "3  Electric       1   1.0    2.0       0.5    0.5  1.0       1.0     1.0   \n",
       "4     Grass       1   0.5    2.0       1.0    0.5  1.0       1.0     0.5   \n",
       "\n",
       "   Ground  Flying  Psychic  Bug  Rock  Ghost  Dragon  Dark  Steel  Fairy  \n",
       "3     0.0     2.0      1.0  1.0   1.0    1.0     0.5   1.0    1.0    1.0  \n",
       "4     2.0     0.5      1.0  0.5   2.0    1.0     0.5   1.0    0.5    1.0  "
      ]
     },
     "execution_count": 53,
     "metadata": {},
     "output_type": "execute_result"
    }
   ],
   "source": [
    "fraqueza('Water')"
   ]
  },
  {
   "cell_type": "code",
   "execution_count": 44,
   "metadata": {},
   "outputs": [
    {
     "data": {
      "text/html": [
       "<div>\n",
       "<style scoped>\n",
       "    .dataframe tbody tr th:only-of-type {\n",
       "        vertical-align: middle;\n",
       "    }\n",
       "\n",
       "    .dataframe tbody tr th {\n",
       "        vertical-align: top;\n",
       "    }\n",
       "\n",
       "    .dataframe thead th {\n",
       "        text-align: right;\n",
       "    }\n",
       "</style>\n",
       "<table border=\"1\" class=\"dataframe\">\n",
       "  <thead>\n",
       "    <tr style=\"text-align: right;\">\n",
       "      <th></th>\n",
       "      <th>Attacking</th>\n",
       "      <th>Normal</th>\n",
       "      <th>Fire</th>\n",
       "      <th>Water</th>\n",
       "      <th>Electric</th>\n",
       "      <th>Grass</th>\n",
       "      <th>Ice</th>\n",
       "      <th>Fighting</th>\n",
       "      <th>Poison</th>\n",
       "      <th>Ground</th>\n",
       "      <th>Flying</th>\n",
       "      <th>Psychic</th>\n",
       "      <th>Bug</th>\n",
       "      <th>Rock</th>\n",
       "      <th>Ghost</th>\n",
       "      <th>Dragon</th>\n",
       "      <th>Dark</th>\n",
       "      <th>Steel</th>\n",
       "      <th>Fairy</th>\n",
       "    </tr>\n",
       "  </thead>\n",
       "  <tbody>\n",
       "    <tr>\n",
       "      <th>1</th>\n",
       "      <td>Fire</td>\n",
       "      <td>1</td>\n",
       "      <td>0.5</td>\n",
       "      <td>0.5</td>\n",
       "      <td>1.0</td>\n",
       "      <td>2.0</td>\n",
       "      <td>2.0</td>\n",
       "      <td>1.0</td>\n",
       "      <td>1.0</td>\n",
       "      <td>1.0</td>\n",
       "      <td>1.0</td>\n",
       "      <td>1.0</td>\n",
       "      <td>2.0</td>\n",
       "      <td>0.5</td>\n",
       "      <td>1.0</td>\n",
       "      <td>0.5</td>\n",
       "      <td>1.0</td>\n",
       "      <td>2.0</td>\n",
       "      <td>1.0</td>\n",
       "    </tr>\n",
       "  </tbody>\n",
       "</table>\n",
       "</div>"
      ],
      "text/plain": [
       "  Attacking  Normal  Fire  Water  Electric  Grass  Ice  Fighting  Poison  \\\n",
       "1      Fire       1   0.5    0.5       1.0    2.0  2.0       1.0     1.0   \n",
       "\n",
       "   Ground  Flying  Psychic  Bug  Rock  Ghost  Dragon  Dark  Steel  Fairy  \n",
       "1     1.0     1.0      1.0  2.0   0.5    1.0     0.5   1.0    2.0    1.0  "
      ]
     },
     "execution_count": 44,
     "metadata": {},
     "output_type": "execute_result"
    }
   ],
   "source": [
    "df.loc[(df['Attacking']=='Fire')]"
   ]
  },
  {
   "cell_type": "code",
   "execution_count": 138,
   "metadata": {},
   "outputs": [
    {
     "data": {
      "text/plain": [
       "Index(['Water', 'Flying'], dtype='object')"
      ]
     },
     "execution_count": 138,
     "metadata": {},
     "output_type": "execute_result"
    }
   ],
   "source": [
    "df.columns[(df == 2).iloc[3]]"
   ]
  },
  {
   "cell_type": "code",
   "execution_count": 177,
   "metadata": {},
   "outputs": [
    {
     "data": {
      "text/plain": [
       "Index(['Attacking', 'Normal', 'Fire', 'Water', 'Electric', 'Grass', 'Ice',\n",
       "       'Fighting', 'Poison', 'Ground', 'Flying', 'Psychic', 'Bug', 'Rock',\n",
       "       'Ghost', 'Dragon', 'Dark', 'Steel', 'Fairy'],\n",
       "      dtype='object')"
      ]
     },
     "execution_count": 177,
     "metadata": {},
     "output_type": "execute_result"
    }
   ],
   "source": [
    "df.columns"
   ]
  },
  {
   "cell_type": "code",
   "execution_count": 248,
   "metadata": {},
   "outputs": [
    {
     "data": {
      "text/html": [
       "<div>\n",
       "<style scoped>\n",
       "    .dataframe tbody tr th:only-of-type {\n",
       "        vertical-align: middle;\n",
       "    }\n",
       "\n",
       "    .dataframe tbody tr th {\n",
       "        vertical-align: top;\n",
       "    }\n",
       "\n",
       "    .dataframe thead th {\n",
       "        text-align: right;\n",
       "    }\n",
       "</style>\n",
       "<table border=\"1\" class=\"dataframe\">\n",
       "  <thead>\n",
       "    <tr style=\"text-align: right;\">\n",
       "      <th></th>\n",
       "      <th>Water</th>\n",
       "    </tr>\n",
       "  </thead>\n",
       "  <tbody>\n",
       "    <tr>\n",
       "      <th>0</th>\n",
       "      <td>1.0</td>\n",
       "    </tr>\n",
       "    <tr>\n",
       "      <th>1</th>\n",
       "      <td>0.5</td>\n",
       "    </tr>\n",
       "    <tr>\n",
       "      <th>2</th>\n",
       "      <td>0.5</td>\n",
       "    </tr>\n",
       "    <tr>\n",
       "      <th>3</th>\n",
       "      <td>2.0</td>\n",
       "    </tr>\n",
       "    <tr>\n",
       "      <th>4</th>\n",
       "      <td>2.0</td>\n",
       "    </tr>\n",
       "    <tr>\n",
       "      <th>5</th>\n",
       "      <td>0.5</td>\n",
       "    </tr>\n",
       "    <tr>\n",
       "      <th>6</th>\n",
       "      <td>1.0</td>\n",
       "    </tr>\n",
       "    <tr>\n",
       "      <th>7</th>\n",
       "      <td>1.0</td>\n",
       "    </tr>\n",
       "    <tr>\n",
       "      <th>8</th>\n",
       "      <td>1.0</td>\n",
       "    </tr>\n",
       "    <tr>\n",
       "      <th>9</th>\n",
       "      <td>1.0</td>\n",
       "    </tr>\n",
       "    <tr>\n",
       "      <th>10</th>\n",
       "      <td>1.0</td>\n",
       "    </tr>\n",
       "    <tr>\n",
       "      <th>11</th>\n",
       "      <td>1.0</td>\n",
       "    </tr>\n",
       "    <tr>\n",
       "      <th>12</th>\n",
       "      <td>1.0</td>\n",
       "    </tr>\n",
       "    <tr>\n",
       "      <th>13</th>\n",
       "      <td>1.0</td>\n",
       "    </tr>\n",
       "    <tr>\n",
       "      <th>14</th>\n",
       "      <td>1.0</td>\n",
       "    </tr>\n",
       "    <tr>\n",
       "      <th>15</th>\n",
       "      <td>1.0</td>\n",
       "    </tr>\n",
       "    <tr>\n",
       "      <th>16</th>\n",
       "      <td>0.5</td>\n",
       "    </tr>\n",
       "    <tr>\n",
       "      <th>17</th>\n",
       "      <td>1.0</td>\n",
       "    </tr>\n",
       "  </tbody>\n",
       "</table>\n",
       "</div>"
      ],
      "text/plain": [
       "    Water\n",
       "0     1.0\n",
       "1     0.5\n",
       "2     0.5\n",
       "3     2.0\n",
       "4     2.0\n",
       "5     0.5\n",
       "6     1.0\n",
       "7     1.0\n",
       "8     1.0\n",
       "9     1.0\n",
       "10    1.0\n",
       "11    1.0\n",
       "12    1.0\n",
       "13    1.0\n",
       "14    1.0\n",
       "15    1.0\n",
       "16    0.5\n",
       "17    1.0"
      ]
     },
     "execution_count": 248,
     "metadata": {},
     "output_type": "execute_result"
    }
   ],
   "source": [
    "df[['Water']]"
   ]
  },
  {
   "cell_type": "code",
   "execution_count": 63,
   "metadata": {},
   "outputs": [
    {
     "data": {
      "text/plain": [
       "Index(['Attacking', 'Normal', 'Fire', 'Water', 'Electric', 'Grass', 'Ice',\n",
       "       'Fighting', 'Poison', 'Ground', 'Flying', 'Psychic', 'Bug', 'Rock',\n",
       "       'Ghost', 'Dragon', 'Dark', 'Steel', 'Fairy'],\n",
       "      dtype='object')"
      ]
     },
     "execution_count": 63,
     "metadata": {},
     "output_type": "execute_result"
    }
   ],
   "source": [
    "df.columns"
   ]
  },
  {
   "cell_type": "code",
   "execution_count": 14,
   "metadata": {},
   "outputs": [
    {
     "data": {
      "text/plain": [
       "0       Normal\n",
       "1         Fire\n",
       "2        Water\n",
       "3     Electric\n",
       "4        Grass\n",
       "5          Ice\n",
       "6     Fighting\n",
       "7       Poison\n",
       "8       Ground\n",
       "9       Flying\n",
       "10     Psychic\n",
       "11         Bug\n",
       "12        Rock\n",
       "13       Ghost\n",
       "14      Dragon\n",
       "15        Dark\n",
       "16       Steel\n",
       "17       Fairy\n",
       "Name: Attacking, dtype: object"
      ]
     },
     "execution_count": 14,
     "metadata": {},
     "output_type": "execute_result"
    }
   ],
   "source": [
    "df['Attacking']"
   ]
  },
  {
   "cell_type": "code",
   "execution_count": 21,
   "metadata": {},
   "outputs": [
    {
     "data": {
      "text/plain": [
       "Attacking    Electric\n",
       "Normal              1\n",
       "Fire                1\n",
       "Water               2\n",
       "Electric          0.5\n",
       "Grass             0.5\n",
       "Ice                 1\n",
       "Fighting            1\n",
       "Poison              1\n",
       "Ground              0\n",
       "Flying              2\n",
       "Psychic             1\n",
       "Bug                 1\n",
       "Rock                1\n",
       "Ghost               1\n",
       "Dragon            0.5\n",
       "Dark                1\n",
       "Steel               1\n",
       "Fairy               1\n",
       "Name: 3, dtype: object"
      ]
     },
     "execution_count": 21,
     "metadata": {},
     "output_type": "execute_result"
    }
   ],
   "source": [
    "df.loc[3]"
   ]
  }
 ],
 "metadata": {
  "kernelspec": {
   "display_name": "Python 3",
   "language": "python",
   "name": "python3"
  },
  "language_info": {
   "codemirror_mode": {
    "name": "ipython",
    "version": 3
   },
   "file_extension": ".py",
   "mimetype": "text/x-python",
   "name": "python",
   "nbconvert_exporter": "python",
   "pygments_lexer": "ipython3",
   "version": "3.7.0"
  }
 },
 "nbformat": 4,
 "nbformat_minor": 2
}
